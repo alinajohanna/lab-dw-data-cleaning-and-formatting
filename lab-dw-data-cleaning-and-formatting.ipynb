{
 "cells": [
  {
   "cell_type": "markdown",
   "id": "25d7736c-ba17-4aff-b6bb-66eba20fbf4e",
   "metadata": {
    "id": "25d7736c-ba17-4aff-b6bb-66eba20fbf4e"
   },
   "source": [
    "# Lab | Data Cleaning and Formatting"
   ]
  },
  {
   "cell_type": "markdown",
   "id": "d1973e9e-8be6-4039-b70e-d73ee0d94c99",
   "metadata": {
    "id": "d1973e9e-8be6-4039-b70e-d73ee0d94c99"
   },
   "source": [
    "In this lab, we will be working with the customer data from an insurance company, which can be found in the CSV file located at the following link: https://raw.githubusercontent.com/data-bootcamp-v4/data/main/file1.csv\n"
   ]
  },
  {
   "cell_type": "markdown",
   "id": "31b8a9e7-7db9-4604-991b-ef6771603e57",
   "metadata": {
    "id": "31b8a9e7-7db9-4604-991b-ef6771603e57"
   },
   "source": [
    "# Challenge 1: Data Cleaning and Formatting"
   ]
  },
  {
   "cell_type": "markdown",
   "id": "81553f19-9f2c-484b-8940-520aff884022",
   "metadata": {
    "id": "81553f19-9f2c-484b-8940-520aff884022"
   },
   "source": [
    "## Exercise 1: Cleaning Column Names"
   ]
  },
  {
   "cell_type": "markdown",
   "id": "34a929f4-1be4-4fa8-adda-42ffd920be90",
   "metadata": {
    "id": "34a929f4-1be4-4fa8-adda-42ffd920be90"
   },
   "source": [
    "To ensure consistency and ease of use, standardize the column names of the dataframe. Start by taking a first look at the dataframe and identifying any column names that need to be modified. Use appropriate naming conventions and make sure that column names are descriptive and informative.\n",
    "\n",
    "*Hint*:\n",
    "- *Column names should be in lower case*\n",
    "- *White spaces in column names should be replaced by `_`*\n",
    "- *`st` could be replaced for `state`*"
   ]
  },
  {
   "cell_type": "code",
   "execution_count": 4,
   "id": "5810735c-8056-4442-bbf2-dda38d3e284a",
   "metadata": {
    "id": "5810735c-8056-4442-bbf2-dda38d3e284a"
   },
   "outputs": [
    {
     "data": {
      "text/html": [
       "<div>\n",
       "<style scoped>\n",
       "    .dataframe tbody tr th:only-of-type {\n",
       "        vertical-align: middle;\n",
       "    }\n",
       "\n",
       "    .dataframe tbody tr th {\n",
       "        vertical-align: top;\n",
       "    }\n",
       "\n",
       "    .dataframe thead th {\n",
       "        text-align: right;\n",
       "    }\n",
       "</style>\n",
       "<table border=\"1\" class=\"dataframe\">\n",
       "  <thead>\n",
       "    <tr style=\"text-align: right;\">\n",
       "      <th></th>\n",
       "      <th>Customer</th>\n",
       "      <th>ST</th>\n",
       "      <th>GENDER</th>\n",
       "      <th>Education</th>\n",
       "      <th>Customer Lifetime Value</th>\n",
       "      <th>Income</th>\n",
       "      <th>Monthly Premium Auto</th>\n",
       "      <th>Number of Open Complaints</th>\n",
       "      <th>Policy Type</th>\n",
       "      <th>Vehicle Class</th>\n",
       "      <th>Total Claim Amount</th>\n",
       "    </tr>\n",
       "  </thead>\n",
       "  <tbody>\n",
       "    <tr>\n",
       "      <th>0</th>\n",
       "      <td>RB50392</td>\n",
       "      <td>Washington</td>\n",
       "      <td>NaN</td>\n",
       "      <td>Master</td>\n",
       "      <td>NaN</td>\n",
       "      <td>0.0</td>\n",
       "      <td>1000.0</td>\n",
       "      <td>1/0/00</td>\n",
       "      <td>Personal Auto</td>\n",
       "      <td>Four-Door Car</td>\n",
       "      <td>2.704934</td>\n",
       "    </tr>\n",
       "    <tr>\n",
       "      <th>1</th>\n",
       "      <td>QZ44356</td>\n",
       "      <td>Arizona</td>\n",
       "      <td>F</td>\n",
       "      <td>Bachelor</td>\n",
       "      <td>697953.59%</td>\n",
       "      <td>0.0</td>\n",
       "      <td>94.0</td>\n",
       "      <td>1/0/00</td>\n",
       "      <td>Personal Auto</td>\n",
       "      <td>Four-Door Car</td>\n",
       "      <td>1131.464935</td>\n",
       "    </tr>\n",
       "    <tr>\n",
       "      <th>2</th>\n",
       "      <td>AI49188</td>\n",
       "      <td>Nevada</td>\n",
       "      <td>F</td>\n",
       "      <td>Bachelor</td>\n",
       "      <td>1288743.17%</td>\n",
       "      <td>48767.0</td>\n",
       "      <td>108.0</td>\n",
       "      <td>1/0/00</td>\n",
       "      <td>Personal Auto</td>\n",
       "      <td>Two-Door Car</td>\n",
       "      <td>566.472247</td>\n",
       "    </tr>\n",
       "    <tr>\n",
       "      <th>3</th>\n",
       "      <td>WW63253</td>\n",
       "      <td>California</td>\n",
       "      <td>M</td>\n",
       "      <td>Bachelor</td>\n",
       "      <td>764586.18%</td>\n",
       "      <td>0.0</td>\n",
       "      <td>106.0</td>\n",
       "      <td>1/0/00</td>\n",
       "      <td>Corporate Auto</td>\n",
       "      <td>SUV</td>\n",
       "      <td>529.881344</td>\n",
       "    </tr>\n",
       "    <tr>\n",
       "      <th>4</th>\n",
       "      <td>GA49547</td>\n",
       "      <td>Washington</td>\n",
       "      <td>M</td>\n",
       "      <td>High School or Below</td>\n",
       "      <td>536307.65%</td>\n",
       "      <td>36357.0</td>\n",
       "      <td>68.0</td>\n",
       "      <td>1/0/00</td>\n",
       "      <td>Personal Auto</td>\n",
       "      <td>Four-Door Car</td>\n",
       "      <td>17.269323</td>\n",
       "    </tr>\n",
       "  </tbody>\n",
       "</table>\n",
       "</div>"
      ],
      "text/plain": [
       "  Customer          ST GENDER             Education Customer Lifetime Value  \\\n",
       "0  RB50392  Washington    NaN                Master                     NaN   \n",
       "1  QZ44356     Arizona      F              Bachelor              697953.59%   \n",
       "2  AI49188      Nevada      F              Bachelor             1288743.17%   \n",
       "3  WW63253  California      M              Bachelor              764586.18%   \n",
       "4  GA49547  Washington      M  High School or Below              536307.65%   \n",
       "\n",
       "    Income  Monthly Premium Auto Number of Open Complaints     Policy Type  \\\n",
       "0      0.0                1000.0                    1/0/00   Personal Auto   \n",
       "1      0.0                  94.0                    1/0/00   Personal Auto   \n",
       "2  48767.0                 108.0                    1/0/00   Personal Auto   \n",
       "3      0.0                 106.0                    1/0/00  Corporate Auto   \n",
       "4  36357.0                  68.0                    1/0/00   Personal Auto   \n",
       "\n",
       "   Vehicle Class  Total Claim Amount  \n",
       "0  Four-Door Car            2.704934  \n",
       "1  Four-Door Car         1131.464935  \n",
       "2   Two-Door Car          566.472247  \n",
       "3            SUV          529.881344  \n",
       "4  Four-Door Car           17.269323  "
      ]
     },
     "execution_count": 4,
     "metadata": {},
     "output_type": "execute_result"
    }
   ],
   "source": [
    "import pandas as pd\n",
    "\n",
    "df = pd.read_csv('https://raw.githubusercontent.com/data-bootcamp-v4/data/main/file1.csv')\n",
    "df.head()"
   ]
  },
  {
   "cell_type": "code",
   "execution_count": 5,
   "id": "1f870a1d",
   "metadata": {},
   "outputs": [
    {
     "data": {
      "text/plain": [
       "array([nan, 'F', 'M', 'Femal', 'Male', 'female'], dtype=object)"
      ]
     },
     "execution_count": 5,
     "metadata": {},
     "output_type": "execute_result"
    }
   ],
   "source": [
    "df['GENDER'].unique()"
   ]
  },
  {
   "cell_type": "code",
   "execution_count": 6,
   "id": "712c67ad",
   "metadata": {},
   "outputs": [],
   "source": [
    "# 1. convert all to lower case names\n",
    "df.columns = df.columns.str.lower()\n",
    "# would also work with the following lambda function; what's the better way?\n",
    "# df.columns = map(lambda x: x.lower(), df.columns)"
   ]
  },
  {
   "cell_type": "code",
   "execution_count": 7,
   "id": "a1723caf",
   "metadata": {},
   "outputs": [
    {
     "data": {
      "text/plain": [
       "Index(['customer', 'st', 'gender', 'education', 'customer_lifetime_value',\n",
       "       'income', 'monthly_premium_auto', 'number_of_open_complaints',\n",
       "       'policy_type', 'vehicle_class', 'total_claim_amount'],\n",
       "      dtype='object')"
      ]
     },
     "execution_count": 7,
     "metadata": {},
     "output_type": "execute_result"
    }
   ],
   "source": [
    "# 2. replacing \" \" with \"_\" in column names\n",
    "df.columns = map(lambda x: x.replace(\" \",\"_\"), df.columns)\n",
    "df.columns"
   ]
  },
  {
   "cell_type": "code",
   "execution_count": 8,
   "id": "af9bb3a2",
   "metadata": {
    "scrolled": true
   },
   "outputs": [],
   "source": [
    "# i was trying before with the following code, which is however not as userfriendly:\n",
    "#column_names = list(df.columns)\n",
    "#new_column_names = []\n",
    "#for col in range(len(column_names)):\n",
    "#    new_col = column_names[col].replace(\" \",\"_\")\n",
    "#    new_column_names.append(new_col)\n",
    "#df.columns = new_column_names"
   ]
  },
  {
   "cell_type": "code",
   "execution_count": 9,
   "id": "651dcea4",
   "metadata": {},
   "outputs": [
    {
     "data": {
      "text/plain": [
       "Index(['customer', 'state', 'gender', 'education', 'customer_lifetime_value',\n",
       "       'income', 'monthly_premium_auto', 'number_of_open_complaints',\n",
       "       'policy_type', 'vehicle_class', 'total_claim_amount'],\n",
       "      dtype='object')"
      ]
     },
     "execution_count": 9,
     "metadata": {},
     "output_type": "execute_result"
    }
   ],
   "source": [
    "# to replace the column name \"ST\" (by now its \"st\") with \"state\" the rename() method is applied\n",
    "df = df.rename(columns={'st':'state'})\n",
    "df.columns"
   ]
  },
  {
   "cell_type": "markdown",
   "id": "9cb501ec-36ff-4589-b872-6252bb150316",
   "metadata": {
    "id": "9cb501ec-36ff-4589-b872-6252bb150316"
   },
   "source": [
    "## Exercise 2: Cleaning invalid Values"
   ]
  },
  {
   "cell_type": "markdown",
   "id": "36d27016",
   "metadata": {},
   "source": [
    "The dataset contains columns with inconsistent and incorrect values that could affect the accuracy of our analysis. Therefore, we need to clean these columns to ensure that they only contain valid data.\n",
    "\n",
    "Note that this exercise will focus only on cleaning inconsistent values and will not involve handling null values (NaN or None).\n",
    "\n",
    "Hint:\n",
    "\n",
    "- Gender column contains various inconsistent values such as \"F\", \"M\", \"Femal\", \"Male\", \"female\", which need to be standardized, for example, to \"M\" and \"F\".\n",
    "\n",
    "- State abbreviations be can replaced with its full name, for example \"AZ\": \"Arizona\", \"Cali\": \"California\", \"WA\": \"Washington\"\n",
    "\n",
    "- In education, \"Bachelors\" could be replaced by \"Bachelor\"\n",
    "\n",
    "- In Customer Lifetime Value, delete the % character\n",
    "\n",
    "- In vehicle class, \"Sports Car\", \"Luxury SUV\" and \"Luxury Car\" could be replaced by \"Luxury\""
   ]
  },
  {
   "cell_type": "markdown",
   "id": "bb5b196a",
   "metadata": {},
   "source": [
    "#### 1. Gender Column"
   ]
  },
  {
   "cell_type": "code",
   "execution_count": 10,
   "id": "3f8ee5cb-50ab-48af-8a9f-9a389804033c",
   "metadata": {
    "id": "3f8ee5cb-50ab-48af-8a9f-9a389804033c"
   },
   "outputs": [
    {
     "data": {
      "text/plain": [
       "array([nan, 'F', 'M', 'Femal', 'Male', 'female'], dtype=object)"
      ]
     },
     "execution_count": 10,
     "metadata": {},
     "output_type": "execute_result"
    }
   ],
   "source": [
    "df['gender'].unique()"
   ]
  },
  {
   "cell_type": "code",
   "execution_count": 11,
   "id": "6ddea707",
   "metadata": {},
   "outputs": [],
   "source": [
    "# gender needs to be standardized to either \"F\" or \"M\"\n",
    "# creating a lambda function that converts the data in column gender\n",
    "        # to the first character of each string\n",
    "# apply() applies the function to every data point in df['gender']"
   ]
  },
  {
   "cell_type": "code",
   "execution_count": 12,
   "id": "c1e4cbc1",
   "metadata": {},
   "outputs": [
    {
     "data": {
      "text/plain": [
       "array([nan, 'F', 'M'], dtype=object)"
      ]
     },
     "execution_count": 12,
     "metadata": {},
     "output_type": "execute_result"
    }
   ],
   "source": [
    "df['gender'] = df['gender'].apply(lambda x: x[0].upper() if pd.notnull(x) and x[0].upper() in ['M','F'] else x)\n",
    "df['gender'].unique()"
   ]
  },
  {
   "cell_type": "code",
   "execution_count": 13,
   "id": "de97ea7e",
   "metadata": {},
   "outputs": [],
   "source": [
    "## explaining the lambda function:\n",
    "## the argument is here the data in the gender column (lambda iteratives through every row in column gender)\n",
    "## the expression (= replaces data in column gender) takes the first character of each string and converts it\n",
    "    # to upper case.\n",
    "    # the condition checks if the uppercase first characer is \"M\" or \"F\" as well as if the data point is notnull.\n",
    "        # if it is, the first uppercase character is returned\n",
    "        # if it isn't, the original data (x) remains"
   ]
  },
  {
   "cell_type": "markdown",
   "id": "f11b25a2",
   "metadata": {},
   "source": [
    "#### 2. State"
   ]
  },
  {
   "cell_type": "code",
   "execution_count": 14,
   "id": "284fd7f7",
   "metadata": {},
   "outputs": [
    {
     "data": {
      "text/plain": [
       "array(['Washington', 'Arizona', 'Nevada', 'California', 'Oregon', 'Cali',\n",
       "       'AZ', 'WA', nan], dtype=object)"
      ]
     },
     "execution_count": 14,
     "metadata": {},
     "output_type": "execute_result"
    }
   ],
   "source": [
    "df['state'].unique()\n",
    "# the abbreviated states AZ and WA that need to be replaced\n",
    "## it could be that in the future even more states appear in abbrevations"
   ]
  },
  {
   "cell_type": "code",
   "execution_count": 15,
   "id": "36ffc78c",
   "metadata": {},
   "outputs": [],
   "source": [
    "# creating a dictionary that translates the abbrevations to their full state names\n",
    "state_dict = {'AZ':'Arizona','Cali':'California','WA':'Washington'}"
   ]
  },
  {
   "cell_type": "code",
   "execution_count": 16,
   "id": "d5b20506",
   "metadata": {},
   "outputs": [
    {
     "data": {
      "text/plain": [
       "array(['Washington', 'Arizona', 'Nevada', 'California', 'Oregon', nan],\n",
       "      dtype=object)"
      ]
     },
     "execution_count": 16,
     "metadata": {},
     "output_type": "execute_result"
    }
   ],
   "source": [
    "# replace each abbrevated state with its full state name on the basis of state_dict\n",
    "df['state'] = df['state'].replace(state_dict)\n",
    "df['state'].unique()"
   ]
  },
  {
   "cell_type": "markdown",
   "id": "ec7d70e4",
   "metadata": {},
   "source": [
    "#### 3. Education"
   ]
  },
  {
   "cell_type": "code",
   "execution_count": 17,
   "id": "3614adeb",
   "metadata": {},
   "outputs": [
    {
     "data": {
      "text/plain": [
       "array(['Master', 'Bachelor', 'High School or Below', 'College',\n",
       "       'Bachelors', 'Doctor', nan], dtype=object)"
      ]
     },
     "execution_count": 17,
     "metadata": {},
     "output_type": "execute_result"
    }
   ],
   "source": [
    "df['education'].unique()"
   ]
  },
  {
   "cell_type": "code",
   "execution_count": 18,
   "id": "0e5b63b7",
   "metadata": {},
   "outputs": [
    {
     "data": {
      "text/plain": [
       "array(['Master', 'Bachelor', 'High School or Below', 'College', 'Doctor',\n",
       "       nan], dtype=object)"
      ]
     },
     "execution_count": 18,
     "metadata": {},
     "output_type": "execute_result"
    }
   ],
   "source": [
    "# replacing 'Bachelors' with 'Bachelor'\n",
    "df['education'] = df['education'].replace({'Bachelors':'Bachelor'})\n",
    "df['education'].unique()"
   ]
  },
  {
   "cell_type": "markdown",
   "id": "1c78ac5b",
   "metadata": {},
   "source": [
    "#### 4. Customer Lifetime Value"
   ]
  },
  {
   "cell_type": "code",
   "execution_count": 19,
   "id": "b6ae27ab",
   "metadata": {},
   "outputs": [
    {
     "data": {
      "text/html": [
       "<div>\n",
       "<style scoped>\n",
       "    .dataframe tbody tr th:only-of-type {\n",
       "        vertical-align: middle;\n",
       "    }\n",
       "\n",
       "    .dataframe tbody tr th {\n",
       "        vertical-align: top;\n",
       "    }\n",
       "\n",
       "    .dataframe thead th {\n",
       "        text-align: right;\n",
       "    }\n",
       "</style>\n",
       "<table border=\"1\" class=\"dataframe\">\n",
       "  <thead>\n",
       "    <tr style=\"text-align: right;\">\n",
       "      <th></th>\n",
       "      <th>customer_lifetime_value</th>\n",
       "    </tr>\n",
       "  </thead>\n",
       "  <tbody>\n",
       "    <tr>\n",
       "      <th>0</th>\n",
       "      <td>NaN</td>\n",
       "    </tr>\n",
       "    <tr>\n",
       "      <th>1</th>\n",
       "      <td>697953.59%</td>\n",
       "    </tr>\n",
       "    <tr>\n",
       "      <th>2</th>\n",
       "      <td>1288743.17%</td>\n",
       "    </tr>\n",
       "  </tbody>\n",
       "</table>\n",
       "</div>"
      ],
      "text/plain": [
       "  customer_lifetime_value\n",
       "0                     NaN\n",
       "1              697953.59%\n",
       "2             1288743.17%"
      ]
     },
     "metadata": {},
     "output_type": "display_data"
    },
    {
     "name": "stdout",
     "output_type": "stream",
     "text": [
      "object\n"
     ]
    }
   ],
   "source": [
    "display(df[['customer_lifetime_value']].head(3))\n",
    "print(df['customer_lifetime_value'].dtypes)\n",
    "#type is object"
   ]
  },
  {
   "cell_type": "code",
   "execution_count": 20,
   "id": "ca84060a",
   "metadata": {},
   "outputs": [],
   "source": [
    "# replacing '%' with nothing ('')\n",
    "# applying it with a lambda function to all values in 'customer_lifetime_value'\n",
    "df['customer_lifetime_value'] = df['customer_lifetime_value'].apply(lambda x: x.replace('%','') if pd.notnull(x) else x)"
   ]
  },
  {
   "cell_type": "code",
   "execution_count": 21,
   "id": "fd375482",
   "metadata": {},
   "outputs": [
    {
     "data": {
      "text/plain": [
       "dtype('float64')"
      ]
     },
     "execution_count": 21,
     "metadata": {},
     "output_type": "execute_result"
    }
   ],
   "source": [
    "# changing the data type to float\n",
    "df['customer_lifetime_value'] = df['customer_lifetime_value'].astype(float)\n",
    "df['customer_lifetime_value'].dtypes"
   ]
  },
  {
   "cell_type": "code",
   "execution_count": 22,
   "id": "8a7ca3b4",
   "metadata": {},
   "outputs": [
    {
     "data": {
      "text/html": [
       "<div>\n",
       "<style scoped>\n",
       "    .dataframe tbody tr th:only-of-type {\n",
       "        vertical-align: middle;\n",
       "    }\n",
       "\n",
       "    .dataframe tbody tr th {\n",
       "        vertical-align: top;\n",
       "    }\n",
       "\n",
       "    .dataframe thead th {\n",
       "        text-align: right;\n",
       "    }\n",
       "</style>\n",
       "<table border=\"1\" class=\"dataframe\">\n",
       "  <thead>\n",
       "    <tr style=\"text-align: right;\">\n",
       "      <th></th>\n",
       "      <th>customer_lifetime_value</th>\n",
       "    </tr>\n",
       "  </thead>\n",
       "  <tbody>\n",
       "    <tr>\n",
       "      <th>0</th>\n",
       "      <td>NaN</td>\n",
       "    </tr>\n",
       "    <tr>\n",
       "      <th>1</th>\n",
       "      <td>697953.59</td>\n",
       "    </tr>\n",
       "    <tr>\n",
       "      <th>2</th>\n",
       "      <td>1288743.17</td>\n",
       "    </tr>\n",
       "  </tbody>\n",
       "</table>\n",
       "</div>"
      ],
      "text/plain": [
       "   customer_lifetime_value\n",
       "0                      NaN\n",
       "1                697953.59\n",
       "2               1288743.17"
      ]
     },
     "execution_count": 22,
     "metadata": {},
     "output_type": "execute_result"
    }
   ],
   "source": [
    "df[['customer_lifetime_value']].head(3)"
   ]
  },
  {
   "cell_type": "markdown",
   "id": "773eb5ae",
   "metadata": {},
   "source": [
    "#### 5. Vehicle class"
   ]
  },
  {
   "cell_type": "code",
   "execution_count": 23,
   "id": "e7174e4c",
   "metadata": {},
   "outputs": [
    {
     "data": {
      "text/plain": [
       "array(['Four-Door Car', 'Two-Door Car', 'SUV', 'Luxury SUV', 'Sports Car',\n",
       "       'Luxury Car', nan], dtype=object)"
      ]
     },
     "execution_count": 23,
     "metadata": {},
     "output_type": "execute_result"
    }
   ],
   "source": [
    "df['vehicle_class'].unique()"
   ]
  },
  {
   "cell_type": "code",
   "execution_count": 24,
   "id": "55f7dd4b",
   "metadata": {},
   "outputs": [],
   "source": [
    "# \"Sports Car\", \"Luxury SUV\" and \"Luxury Car\" replaced by \"Luxury\"\n",
    "car_classes_dict = {'Sports Car':'Luxury','Luxury SUV':'Luxury','Luxury Car':'Luxury'}\n"
   ]
  },
  {
   "cell_type": "code",
   "execution_count": 25,
   "id": "c7688835",
   "metadata": {},
   "outputs": [
    {
     "data": {
      "text/plain": [
       "array(['Four-Door Car', 'Two-Door Car', 'SUV', 'Luxury', nan],\n",
       "      dtype=object)"
      ]
     },
     "execution_count": 25,
     "metadata": {},
     "output_type": "execute_result"
    }
   ],
   "source": [
    "# if needed, replace each car class with its replacement found in car_classes_dict\n",
    "df['vehicle_class'] = df['vehicle_class'].replace(car_classes_dict)\n",
    "df['vehicle_class'].unique()"
   ]
  },
  {
   "cell_type": "markdown",
   "id": "85ff78ce-0174-4890-9db3-8048b7d7d2d0",
   "metadata": {
    "id": "85ff78ce-0174-4890-9db3-8048b7d7d2d0"
   },
   "source": [
    "## Exercise 3: Formatting data types"
   ]
  },
  {
   "cell_type": "markdown",
   "id": "b91c2cf8-79a2-4baf-9f65-ff2fb22270bd",
   "metadata": {
    "id": "b91c2cf8-79a2-4baf-9f65-ff2fb22270bd"
   },
   "source": [
    "The data types of many columns in the dataset appear to be incorrect. This could impact the accuracy of our analysis. To ensure accurate analysis, we need to correct the data types of these columns. Please update the data types of the columns as appropriate."
   ]
  },
  {
   "cell_type": "markdown",
   "id": "43e5d853-ff9e-43b2-9d92-aef2f78764f3",
   "metadata": {
    "id": "43e5d853-ff9e-43b2-9d92-aef2f78764f3"
   },
   "source": [
    "It is important to note that this exercise does not involve handling null values (NaN or None)."
   ]
  },
  {
   "cell_type": "markdown",
   "id": "329ca691-9196-4419-8969-3596746237a1",
   "metadata": {
    "id": "329ca691-9196-4419-8969-3596746237a1"
   },
   "source": [
    "*Hint*:\n",
    "- *Customer lifetime value should be numeric*\n",
    "- *Number of open complaints has an incorrect format. Look at the different values it takes with `unique()` and take the middle value. As an example, 1/5/00 should be 5. Number of open complaints is a string - remember you can use `split()` to deal with it and take the number you need. Finally, since it should be numeric, cast the column to be in its proper type.*"
   ]
  },
  {
   "cell_type": "code",
   "execution_count": 26,
   "id": "eb8f5991-73e9-405f-bf1c-6b7c589379a9",
   "metadata": {
    "id": "eb8f5991-73e9-405f-bf1c-6b7c589379a9"
   },
   "outputs": [
    {
     "data": {
      "text/plain": [
       "dtype('float64')"
      ]
     },
     "execution_count": 26,
     "metadata": {},
     "output_type": "execute_result"
    }
   ],
   "source": [
    "# Customer lifetime value type already changed  to float in exercise 2\n",
    "df['customer_lifetime_value'].dtypes"
   ]
  },
  {
   "cell_type": "code",
   "execution_count": 27,
   "id": "23403008",
   "metadata": {},
   "outputs": [
    {
     "data": {
      "text/plain": [
       "array(['1/0/00', '1/2/00', '1/1/00', '1/3/00', '1/5/00', '1/4/00', nan],\n",
       "      dtype=object)"
      ]
     },
     "execution_count": 27,
     "metadata": {},
     "output_type": "execute_result"
    }
   ],
   "source": [
    "df['number_of_open_complaints'].unique()"
   ]
  },
  {
   "cell_type": "code",
   "execution_count": 28,
   "id": "c317b260",
   "metadata": {},
   "outputs": [
    {
     "data": {
      "text/plain": [
       "array(['0', '2', '1', '3', '5', '4', nan], dtype=object)"
      ]
     },
     "execution_count": 28,
     "metadata": {},
     "output_type": "execute_result"
    }
   ],
   "source": [
    "# splitting by \"/\" results in a list of 3 strings\n",
    "# only want to keep the second string (-> [1])\n",
    "df['number_of_open_complaints'] = df['number_of_open_complaints'].str.split(pat=\"/\").str[1]\n",
    "df['number_of_open_complaints'].unique()"
   ]
  },
  {
   "cell_type": "markdown",
   "id": "14c52e28-2d0c-4dd2-8bd5-3476e34fadc1",
   "metadata": {
    "id": "14c52e28-2d0c-4dd2-8bd5-3476e34fadc1"
   },
   "source": [
    "## Exercise 4: Dealing with Null values"
   ]
  },
  {
   "cell_type": "markdown",
   "id": "34b9a20f-7d32-4417-975e-1b4dfb0e16cd",
   "metadata": {
    "id": "34b9a20f-7d32-4417-975e-1b4dfb0e16cd"
   },
   "source": [
    "Identify any columns with null or missing values. Identify how many null values each column has. You can use the `isnull()` function in pandas to find columns with null values.\n",
    "\n",
    "Decide on a strategy for handling the null values. There are several options, including:\n",
    "\n",
    "- Drop the rows or columns with null values\n",
    "- Fill the null values with a specific value (such as the column mean or median for numerical variables, and mode for categorical variables)\n",
    "- Fill the null values with the previous or next value in the column\n",
    "- Fill the null values based on a more complex algorithm or model (note: we haven't covered this yet)\n",
    "\n",
    "Implement your chosen strategy to handle the null values. You can use the `fillna()` function in pandas to fill null values or `dropna()` function to drop null values.\n",
    "\n",
    "Verify that your strategy has successfully handled the null values. You can use the `isnull()` function again to check if there are still null values in the dataset.\n",
    "\n",
    "Remember to document your process and explain your reasoning for choosing a particular strategy for handling null values.\n",
    "\n",
    "After formatting data types, as a last step, convert all the numeric variables to integers using `applymap()`."
   ]
  },
  {
   "cell_type": "code",
   "execution_count": 29,
   "id": "f184fc35-7831-4836-a0a5-e7f99e01b40e",
   "metadata": {
    "id": "f184fc35-7831-4836-a0a5-e7f99e01b40e"
   },
   "outputs": [
    {
     "name": "stdout",
     "output_type": "stream",
     "text": [
      "customer                     2937\n",
      "state                        2937\n",
      "gender                       3054\n",
      "education                    2937\n",
      "customer_lifetime_value      2940\n",
      "income                       2937\n",
      "monthly_premium_auto         2937\n",
      "number_of_open_complaints    2937\n",
      "policy_type                  2937\n",
      "vehicle_class                2937\n",
      "total_claim_amount           2937\n",
      "dtype: int64\n",
      "(4008, 11)\n"
     ]
    }
   ],
   "source": [
    "# checking null values of every column\n",
    "print(df.isnull().sum())\n",
    "print(df.shape)"
   ]
  },
  {
   "cell_type": "code",
   "execution_count": 30,
   "id": "8b8209ab",
   "metadata": {},
   "outputs": [],
   "source": [
    "# the data set has a lot of missing values in all columns (>50% per col)\n",
    "# these is strange -> check if there are rows filled with NaNs in all columns\n",
    "# if thats the case, these rows will be dropped\n",
    "df = df.dropna(axis=0, how='all')"
   ]
  },
  {
   "cell_type": "code",
   "execution_count": 31,
   "id": "6747aad9",
   "metadata": {},
   "outputs": [
    {
     "data": {
      "text/plain": [
       "customer                       0\n",
       "state                          0\n",
       "gender                       117\n",
       "education                      0\n",
       "customer_lifetime_value        3\n",
       "income                         0\n",
       "monthly_premium_auto           0\n",
       "number_of_open_complaints      0\n",
       "policy_type                    0\n",
       "vehicle_class                  0\n",
       "total_claim_amount             0\n",
       "dtype: int64"
      ]
     },
     "execution_count": 31,
     "metadata": {},
     "output_type": "execute_result"
    }
   ],
   "source": [
    "# check again, how many null values are remaining in every column\n",
    "df.isnull().sum()"
   ]
  },
  {
   "cell_type": "code",
   "execution_count": 32,
   "id": "3e038097",
   "metadata": {},
   "outputs": [],
   "source": [
    "# most null values were cominig from rows that had no content at all (i assume this would have also appeared when\n",
    "    # checking for duplicates)\n",
    "# for further analysis, these rows are dropped"
   ]
  },
  {
   "cell_type": "code",
   "execution_count": 33,
   "id": "493cd746",
   "metadata": {},
   "outputs": [],
   "source": [
    "# columns to be dealt with for dealing with remaining nulls: gender and customer_lifetime_value"
   ]
  },
  {
   "cell_type": "markdown",
   "id": "a2e46dc1",
   "metadata": {},
   "source": [
    "#### gender"
   ]
  },
  {
   "cell_type": "code",
   "execution_count": 34,
   "id": "6e31246b",
   "metadata": {},
   "outputs": [
    {
     "name": "stdout",
     "output_type": "stream",
     "text": [
      "gender\n",
      "F      502\n",
      "M      452\n",
      "NaN    117\n",
      "Name: count, dtype: int64\n"
     ]
    }
   ],
   "source": [
    "print(df['gender'].value_counts(dropna=False))"
   ]
  },
  {
   "cell_type": "code",
   "execution_count": 35,
   "id": "98a835ca",
   "metadata": {},
   "outputs": [
    {
     "name": "stdout",
     "output_type": "stream",
     "text": [
      "gender\n",
      "F    502\n",
      "M    452\n",
      "D    117\n",
      "Name: count, dtype: int64\n"
     ]
    }
   ],
   "source": [
    "# By substituting all NaNs with the most frequent value, the data set would be falsified\n",
    "# I would like to replace the NaNs by \"D\" standing for \"Divers\".\n",
    "# This gender would be similar to something like \"prefer not to say\"\n",
    "\n",
    "df.loc[:,'gender'] = df['gender'].fillna(\"D\", axis=0)\n",
    "print(df['gender'].value_counts(dropna=False))"
   ]
  },
  {
   "cell_type": "markdown",
   "id": "0cbd46f7",
   "metadata": {},
   "source": [
    "#### Customer Lifetime Value"
   ]
  },
  {
   "cell_type": "code",
   "execution_count": 36,
   "id": "273355ba",
   "metadata": {},
   "outputs": [
    {
     "data": {
      "text/plain": [
       "3"
      ]
     },
     "execution_count": 36,
     "metadata": {},
     "output_type": "execute_result"
    }
   ],
   "source": [
    "# Column has only 3 rows with NaN -> it's safe to drop these rows as well as to fill them with the mean/median\n",
    "df['customer_lifetime_value'].isnull().sum()"
   ]
  },
  {
   "cell_type": "code",
   "execution_count": 37,
   "id": "2fc90438",
   "metadata": {},
   "outputs": [],
   "source": [
    "# changing the data type to float has been done before\n",
    "#df['customer_lifetime_value'] = df['customer_lifetime_value'].astype(float)\n",
    "#df['customer_lifetime_value'].dtypes"
   ]
  },
  {
   "cell_type": "code",
   "execution_count": 38,
   "id": "f2bdd57a",
   "metadata": {},
   "outputs": [
    {
     "name": "stdout",
     "output_type": "stream",
     "text": [
      "count    1.068000e+03\n",
      "mean     7.936903e+05\n",
      "std      6.434784e+05\n",
      "min      2.004351e+05\n",
      "25%      4.034080e+05\n",
      "50%      5.881742e+05\n",
      "75%      8.962872e+05\n",
      "max      5.816655e+06\n",
      "Name: customer_lifetime_value, dtype: float64\n",
      "The median is:\n",
      "588174.235\n"
     ]
    }
   ],
   "source": [
    "print(df['customer_lifetime_value'].describe())\n",
    "print(\"The median is:\")\n",
    "print(df['customer_lifetime_value'].median())"
   ]
  },
  {
   "cell_type": "code",
   "execution_count": 39,
   "id": "f2146e11",
   "metadata": {},
   "outputs": [
    {
     "data": {
      "text/html": [
       "<div>\n",
       "<style scoped>\n",
       "    .dataframe tbody tr th:only-of-type {\n",
       "        vertical-align: middle;\n",
       "    }\n",
       "\n",
       "    .dataframe tbody tr th {\n",
       "        vertical-align: top;\n",
       "    }\n",
       "\n",
       "    .dataframe thead th {\n",
       "        text-align: right;\n",
       "    }\n",
       "</style>\n",
       "<table border=\"1\" class=\"dataframe\">\n",
       "  <thead>\n",
       "    <tr style=\"text-align: right;\">\n",
       "      <th></th>\n",
       "      <th>customer</th>\n",
       "      <th>state</th>\n",
       "      <th>gender</th>\n",
       "      <th>education</th>\n",
       "      <th>customer_lifetime_value</th>\n",
       "      <th>income</th>\n",
       "      <th>monthly_premium_auto</th>\n",
       "      <th>number_of_open_complaints</th>\n",
       "      <th>policy_type</th>\n",
       "      <th>vehicle_class</th>\n",
       "      <th>total_claim_amount</th>\n",
       "    </tr>\n",
       "  </thead>\n",
       "  <tbody>\n",
       "    <tr>\n",
       "      <th>0</th>\n",
       "      <td>RB50392</td>\n",
       "      <td>Washington</td>\n",
       "      <td>D</td>\n",
       "      <td>Master</td>\n",
       "      <td>NaN</td>\n",
       "      <td>0.0</td>\n",
       "      <td>1000.0</td>\n",
       "      <td>0</td>\n",
       "      <td>Personal Auto</td>\n",
       "      <td>Four-Door Car</td>\n",
       "      <td>2.704934</td>\n",
       "    </tr>\n",
       "    <tr>\n",
       "      <th>78</th>\n",
       "      <td>SP81997</td>\n",
       "      <td>Washington</td>\n",
       "      <td>F</td>\n",
       "      <td>Master</td>\n",
       "      <td>NaN</td>\n",
       "      <td>41275.0</td>\n",
       "      <td>96.0</td>\n",
       "      <td>0</td>\n",
       "      <td>Personal Auto</td>\n",
       "      <td>Four-Door Car</td>\n",
       "      <td>41.122303</td>\n",
       "    </tr>\n",
       "    <tr>\n",
       "      <th>988</th>\n",
       "      <td>GT62080</td>\n",
       "      <td>Washington</td>\n",
       "      <td>M</td>\n",
       "      <td>High School or Below</td>\n",
       "      <td>NaN</td>\n",
       "      <td>55561.0</td>\n",
       "      <td>63.0</td>\n",
       "      <td>0</td>\n",
       "      <td>Personal Auto</td>\n",
       "      <td>Four-Door Car</td>\n",
       "      <td>227.872071</td>\n",
       "    </tr>\n",
       "  </tbody>\n",
       "</table>\n",
       "</div>"
      ],
      "text/plain": [
       "    customer       state gender             education  \\\n",
       "0    RB50392  Washington      D                Master   \n",
       "78   SP81997  Washington      F                Master   \n",
       "988  GT62080  Washington      M  High School or Below   \n",
       "\n",
       "     customer_lifetime_value   income  monthly_premium_auto  \\\n",
       "0                        NaN      0.0                1000.0   \n",
       "78                       NaN  41275.0                  96.0   \n",
       "988                      NaN  55561.0                  63.0   \n",
       "\n",
       "    number_of_open_complaints    policy_type  vehicle_class  \\\n",
       "0                           0  Personal Auto  Four-Door Car   \n",
       "78                          0  Personal Auto  Four-Door Car   \n",
       "988                         0  Personal Auto  Four-Door Car   \n",
       "\n",
       "     total_claim_amount  \n",
       "0              2.704934  \n",
       "78            41.122303  \n",
       "988          227.872071  "
      ]
     },
     "execution_count": 39,
     "metadata": {},
     "output_type": "execute_result"
    }
   ],
   "source": [
    "df.loc[df['customer_lifetime_value'].isnull(), :]\n",
    "# the rows with nulls have in common: state, number_of_open_complaints, policy_type, and vehicle_class\n",
    "# i could calculate the mean clv of all data entries that have as well these variables in common and use this as the clv value\n",
    "# however, for simlification i will just fill the nulls with the mean of all data entries"
   ]
  },
  {
   "cell_type": "code",
   "execution_count": 40,
   "id": "646dd521",
   "metadata": {},
   "outputs": [],
   "source": [
    "df.loc[:,'customer_lifetime_value'] = df['customer_lifetime_value'].fillna(df['customer_lifetime_value'].mean(), axis=0)"
   ]
  },
  {
   "cell_type": "code",
   "execution_count": 41,
   "id": "197c0712",
   "metadata": {},
   "outputs": [
    {
     "data": {
      "text/html": [
       "<div>\n",
       "<style scoped>\n",
       "    .dataframe tbody tr th:only-of-type {\n",
       "        vertical-align: middle;\n",
       "    }\n",
       "\n",
       "    .dataframe tbody tr th {\n",
       "        vertical-align: top;\n",
       "    }\n",
       "\n",
       "    .dataframe thead th {\n",
       "        text-align: right;\n",
       "    }\n",
       "</style>\n",
       "<table border=\"1\" class=\"dataframe\">\n",
       "  <thead>\n",
       "    <tr style=\"text-align: right;\">\n",
       "      <th></th>\n",
       "      <th>customer</th>\n",
       "      <th>state</th>\n",
       "      <th>gender</th>\n",
       "      <th>education</th>\n",
       "      <th>customer_lifetime_value</th>\n",
       "      <th>income</th>\n",
       "      <th>monthly_premium_auto</th>\n",
       "      <th>number_of_open_complaints</th>\n",
       "      <th>policy_type</th>\n",
       "      <th>vehicle_class</th>\n",
       "      <th>total_claim_amount</th>\n",
       "    </tr>\n",
       "  </thead>\n",
       "  <tbody>\n",
       "    <tr>\n",
       "      <th>0</th>\n",
       "      <td>RB50392</td>\n",
       "      <td>Washington</td>\n",
       "      <td>D</td>\n",
       "      <td>Master</td>\n",
       "      <td>793690.259345</td>\n",
       "      <td>0.0</td>\n",
       "      <td>1000.0</td>\n",
       "      <td>0</td>\n",
       "      <td>Personal Auto</td>\n",
       "      <td>Four-Door Car</td>\n",
       "      <td>2.704934</td>\n",
       "    </tr>\n",
       "    <tr>\n",
       "      <th>78</th>\n",
       "      <td>SP81997</td>\n",
       "      <td>Washington</td>\n",
       "      <td>F</td>\n",
       "      <td>Master</td>\n",
       "      <td>793690.259345</td>\n",
       "      <td>41275.0</td>\n",
       "      <td>96.0</td>\n",
       "      <td>0</td>\n",
       "      <td>Personal Auto</td>\n",
       "      <td>Four-Door Car</td>\n",
       "      <td>41.122303</td>\n",
       "    </tr>\n",
       "    <tr>\n",
       "      <th>988</th>\n",
       "      <td>GT62080</td>\n",
       "      <td>Washington</td>\n",
       "      <td>M</td>\n",
       "      <td>High School or Below</td>\n",
       "      <td>793690.259345</td>\n",
       "      <td>55561.0</td>\n",
       "      <td>63.0</td>\n",
       "      <td>0</td>\n",
       "      <td>Personal Auto</td>\n",
       "      <td>Four-Door Car</td>\n",
       "      <td>227.872071</td>\n",
       "    </tr>\n",
       "  </tbody>\n",
       "</table>\n",
       "</div>"
      ],
      "text/plain": [
       "    customer       state gender             education  \\\n",
       "0    RB50392  Washington      D                Master   \n",
       "78   SP81997  Washington      F                Master   \n",
       "988  GT62080  Washington      M  High School or Below   \n",
       "\n",
       "     customer_lifetime_value   income  monthly_premium_auto  \\\n",
       "0              793690.259345      0.0                1000.0   \n",
       "78             793690.259345  41275.0                  96.0   \n",
       "988            793690.259345  55561.0                  63.0   \n",
       "\n",
       "    number_of_open_complaints    policy_type  vehicle_class  \\\n",
       "0                           0  Personal Auto  Four-Door Car   \n",
       "78                          0  Personal Auto  Four-Door Car   \n",
       "988                         0  Personal Auto  Four-Door Car   \n",
       "\n",
       "     total_claim_amount  \n",
       "0              2.704934  \n",
       "78            41.122303  \n",
       "988          227.872071  "
      ]
     },
     "execution_count": 41,
     "metadata": {},
     "output_type": "execute_result"
    }
   ],
   "source": [
    "# show data that has been filled with the mean value\n",
    "df.loc[df['customer_lifetime_value']==df['customer_lifetime_value'].mean(), :]"
   ]
  },
  {
   "cell_type": "markdown",
   "id": "c20f6337",
   "metadata": {},
   "source": [
    "#### final check for nulls"
   ]
  },
  {
   "cell_type": "code",
   "execution_count": 42,
   "id": "b66141eb",
   "metadata": {},
   "outputs": [
    {
     "data": {
      "text/plain": [
       "customer                     0\n",
       "state                        0\n",
       "gender                       0\n",
       "education                    0\n",
       "customer_lifetime_value      0\n",
       "income                       0\n",
       "monthly_premium_auto         0\n",
       "number_of_open_complaints    0\n",
       "policy_type                  0\n",
       "vehicle_class                0\n",
       "total_claim_amount           0\n",
       "dtype: int64"
      ]
     },
     "execution_count": 42,
     "metadata": {},
     "output_type": "execute_result"
    }
   ],
   "source": [
    "# no nulls left\n",
    "df.isnull().sum()"
   ]
  },
  {
   "cell_type": "markdown",
   "id": "0cc4b725",
   "metadata": {},
   "source": [
    "#### After formatting data types, as a last step, convert all the numeric variables to integers using applymap()."
   ]
  },
  {
   "cell_type": "code",
   "execution_count": 43,
   "id": "fd5e5fa9",
   "metadata": {},
   "outputs": [
    {
     "data": {
      "text/plain": [
       "customer                      object\n",
       "state                         object\n",
       "gender                        object\n",
       "education                     object\n",
       "customer_lifetime_value      float64\n",
       "income                       float64\n",
       "monthly_premium_auto         float64\n",
       "number_of_open_complaints     object\n",
       "policy_type                   object\n",
       "vehicle_class                 object\n",
       "total_claim_amount           float64\n",
       "dtype: object"
      ]
     },
     "execution_count": 43,
     "metadata": {},
     "output_type": "execute_result"
    }
   ],
   "source": [
    "# most numeric variables are float64, besides number of open complaints\n",
    "df.dtypes"
   ]
  },
  {
   "cell_type": "code",
   "execution_count": 44,
   "id": "218efe47",
   "metadata": {},
   "outputs": [],
   "source": [
    "# defining a list with all numeric variables\n",
    "num_var = ['customer_lifetime_value','income', 'monthly_premium_auto', 'number_of_open_complaints', 'total_claim_amount']\n",
    "# applying a lambda function that sets them all to be of type integer\n",
    "df[num_var] = df[num_var].apply(lambda x: x.astype(int))\n",
    "# i wasnt sure why i should need applymap as apply also works perfectly fine"
   ]
  },
  {
   "cell_type": "code",
   "execution_count": 45,
   "id": "05638472",
   "metadata": {},
   "outputs": [
    {
     "data": {
      "text/plain": [
       "customer                     object\n",
       "state                        object\n",
       "gender                       object\n",
       "education                    object\n",
       "customer_lifetime_value       int64\n",
       "income                        int64\n",
       "monthly_premium_auto          int64\n",
       "number_of_open_complaints     int64\n",
       "policy_type                  object\n",
       "vehicle_class                object\n",
       "total_claim_amount            int64\n",
       "dtype: object"
      ]
     },
     "execution_count": 45,
     "metadata": {},
     "output_type": "execute_result"
    }
   ],
   "source": [
    "# checking final data types\n",
    "df.dtypes"
   ]
  },
  {
   "cell_type": "markdown",
   "id": "98416351-e999-4156-9834-9b00a311adfa",
   "metadata": {
    "id": "98416351-e999-4156-9834-9b00a311adfa"
   },
   "source": [
    "## Exercise 5: Dealing with duplicates"
   ]
  },
  {
   "cell_type": "markdown",
   "id": "ea0816a7-a18e-4d4c-b667-a8452a800bd1",
   "metadata": {
    "id": "ea0816a7-a18e-4d4c-b667-a8452a800bd1"
   },
   "source": [
    "Use the `.duplicated()` method to identify any duplicate rows in the dataframe.\n",
    "\n",
    "Decide on a strategy for handling the duplicates. Options include:\n",
    "- Dropping all duplicate rows\n",
    "- Keeping only the first occurrence of each duplicated row\n",
    "- Keeping only the last occurrence of each duplicated row\n",
    "- Dropping duplicates based on a subset of columns\n",
    "- Dropping duplicates based on a specific column\n",
    "\n",
    "Implement your chosen strategy using the `drop_duplicates()` function.\n",
    "\n",
    "Verify that your strategy has successfully handled the duplicates by checking for duplicates again using `.duplicated()`.\n",
    "\n",
    "Remember to document your process and explain your reasoning for choosing a particular strategy for handling duplicates.\n",
    "\n",
    "Save the cleaned dataset to a new CSV file.\n",
    "\n",
    "*Hint*: *after dropping duplicates, reset the index to ensure consistency*."
   ]
  },
  {
   "cell_type": "code",
   "execution_count": 46,
   "id": "1929362c-47ed-47cb-baca-358b78d401a0",
   "metadata": {
    "id": "1929362c-47ed-47cb-baca-358b78d401a0"
   },
   "outputs": [
    {
     "data": {
      "text/plain": [
       "0"
      ]
     },
     "execution_count": 46,
     "metadata": {},
     "output_type": "execute_result"
    }
   ],
   "source": [
    "# checking remaining duplicates\n",
    "df.duplicated().sum()"
   ]
  },
  {
   "cell_type": "code",
   "execution_count": 47,
   "id": "293e3235",
   "metadata": {},
   "outputs": [],
   "source": [
    "# no duplicates left\n",
    "# i already dropped the duplicates while i was searching for rows that are only filled with NaNs"
   ]
  },
  {
   "cell_type": "code",
   "execution_count": 48,
   "id": "ac56c875",
   "metadata": {},
   "outputs": [],
   "source": [
    "# in case i wouldnt have performed that step, I would have done:\n",
    "# df = df.drop_duplicates()\n",
    "# reset the index\n",
    "# df.reset_index()"
   ]
  },
  {
   "cell_type": "code",
   "execution_count": 49,
   "id": "74842d55",
   "metadata": {},
   "outputs": [],
   "source": [
    "# saving the cleaned dataset to a new csv file\n",
    "# seetint index to False to avoid having a column with the indices\n",
    "df.to_csv('cleaned_dataframe',index = False) "
   ]
  },
  {
   "cell_type": "markdown",
   "id": "60840701-4783-40e2-b4d8-55303f9100c9",
   "metadata": {
    "id": "60840701-4783-40e2-b4d8-55303f9100c9"
   },
   "source": [
    "# Bonus: Challenge 2: creating functions on a separate `py` file"
   ]
  },
  {
   "cell_type": "markdown",
   "id": "9d1adb3a-17cf-4899-8041-da21a4337fb4",
   "metadata": {
    "id": "9d1adb3a-17cf-4899-8041-da21a4337fb4"
   },
   "source": [
    "Put all the data cleaning and formatting steps into functions, and create a main function that performs all the cleaning and formatting.\n",
    "\n",
    "Write these functions in separate .py file(s). By putting these steps into functions, we can make the code more modular and easier to maintain."
   ]
  },
  {
   "cell_type": "markdown",
   "id": "0e170dc2-b62c-417a-8248-e63ed18a70c4",
   "metadata": {
    "id": "0e170dc2-b62c-417a-8248-e63ed18a70c4"
   },
   "source": [
    "*Hint: autoreload module is a utility module in Python that allows you to automatically reload modules in the current session when changes are made to the source code. This can be useful in situations where you are actively developing code and want to see the effects of changes you make without having to constantly restart the Python interpreter or Jupyter Notebook kernel.*"
   ]
  },
  {
   "cell_type": "code",
   "execution_count": 50,
   "id": "a52c6dfc-cd11-4d01-bda4-f719fa33e9a4",
   "metadata": {
    "id": "a52c6dfc-cd11-4d01-bda4-f719fa33e9a4"
   },
   "outputs": [
    {
     "name": "stdout",
     "output_type": "stream",
     "text": [
      "Overwriting functions.py\n"
     ]
    }
   ],
   "source": [
    "%%writefile functions.py\n",
    "\n",
    "import pandas as pd\n",
    "\n",
    "def clean_col_name (df: pd.DataFrame) -> pd.DataFrame:\n",
    "    '''\n",
    "    Function to apply naming convention to column names.\n",
    "    Convert all names to lower case strings and replace empty spaces with \"_\".\n",
    "    Renames st to state.\n",
    "    \n",
    "    Input: df: pd.DataFrame\n",
    "    Output: New DataFrame with replaced values\n",
    "    '''\n",
    "    # make a safety copy\n",
    "    df2= df.copy()\n",
    "    \n",
    "    # convert all to lower case names\n",
    "    df2.columns = df2.columns.str.lower()\n",
    "    \n",
    "    # replacing \" \" with \"_\" in column names\n",
    "    df2.columns = map(lambda x: x.replace(\" \",\"_\"), df2.columns)\n",
    "    \n",
    "    # to replace the column name \"ST\" (by now its \"st\") with \"state\" the rename() method is applied\n",
    "    df2 = df2.rename(columns={'st':'state'})\n",
    "    return df2\n",
    "\n",
    "def clean_gender (df: pd.DataFrame, column='gender') -> pd.DataFrame:\n",
    "    '''\n",
    "    Function cleans by default the \"gender\" column.\n",
    "    All entries that are not equal to \"F\" or \"M\" will be converted.\n",
    "    NaNs or Others will be replaced by \"D\" (Divers, like \"not prefer to say\").\n",
    "    \n",
    "    Input: df: pd.DataFrame\n",
    "           column: string\n",
    "    Output: New DataFrame with replaced values\n",
    "    '''\n",
    "    # make a safety copy\n",
    "    df2= df.copy()\n",
    "    \n",
    "    # change gender to \"F\" or \"M\"\n",
    "    df2[column] = df2[column].apply(lambda x: x[0].upper() if pd.notnull(x) and x[0].upper() in ['M','F'] else \"D\")\n",
    "    \n",
    "    # replace NaNs by \"D\"\n",
    "    #df2 = df.loc[:,column] = df[column].fillna(\"D\", axis=0)\n",
    "    \n",
    "    return df2\n",
    "\n",
    "def clean_state (df: pd.DataFrame, column='state') -> pd.DataFrame:\n",
    "    '''\n",
    "    Function cleans by default the \"state\" column.\n",
    "    All values that are have an abbreviation listed in state_dict will be converted.\n",
    "    \n",
    "    Input: df: pd.DataFrame\n",
    "           column: string\n",
    "    Output: New DataFrame with replaced states\n",
    "    '''\n",
    "    # make a safety copy\n",
    "    df2= df.copy()\n",
    "    \n",
    "    # creating a dictionary that translates the abbrevations to their full state names\n",
    "    state_dict = {'AZ':'Arizona','Cali':'California','WA':'Washington'}\n",
    "    \n",
    "    # replace each abbrevated state with its full state name on the basis of state_dict\n",
    "    df2[column] = df2[column].replace(state_dict)\n",
    "    return df2\n",
    "\n",
    "def clean_education (df: pd.DataFrame, column='education') -> pd.DataFrame:\n",
    "    '''\n",
    "    Function cleans by default the \"education\" column.\n",
    "    \"Bachelors\" will be converted to \"Bachelor\"\n",
    "    \n",
    "    Input: df: pd.DataFrame\n",
    "           column: string\n",
    "    Output: New DataFrame with replaced education\n",
    "    '''\n",
    "    # make a safety copy\n",
    "    df2= df.copy()\n",
    "    \n",
    "    # replacing 'Bachelors' with 'Bachelor'\n",
    "    df2[column] = df2[column].replace({'Bachelors':'Bachelor'})\n",
    "    return df2\n",
    "\n",
    "def clean_clv (df: pd.DataFrame, column='customer_lifetime_value') -> pd.DataFrame:\n",
    "    '''\n",
    "    Function cleans by default the \"customer_lifetime_value\" column.\n",
    "    Replaces '%' with nothing ('') and formats it to float.\n",
    "    \n",
    "    Input: df: pd.DataFrame\n",
    "           column: string\n",
    "    Output: New DataFrame with replaced values\n",
    "    '''\n",
    "    # make a safety copy\n",
    "    df2= df.copy()\n",
    "    \n",
    "    # replacing '%' with nothing ('')\n",
    "    df2[column] = df2[column].apply(lambda x: x.replace('%','') if pd.notnull(x) else x)\n",
    "    \n",
    "    \n",
    "    # changing the data type to float is not working here\n",
    "    #df2[column] = df2[column].astype(float)\n",
    "    return df2\n",
    "\n",
    "def clean_car_class (df: pd.DataFrame, column='vehicle_class') -> pd.DataFrame:\n",
    "    '''\n",
    "    Function cleans by default the \"vehicle_class\" column.\n",
    "    All values that are listed in car_classes_dict will be converted.\n",
    "    \n",
    "    Input: df: pd.DataFrame\n",
    "           column: string\n",
    "    Output: New DataFrame with replaced vehicle type\n",
    "    '''\n",
    "    # make a safety copy\n",
    "    df2= df.copy()\n",
    "    \n",
    "    # creating a dictionary that converts the values to Luxury\n",
    "    car_classes_dict = {'Sports Car':'Luxury','Luxury SUV':'Luxury','Luxury Car':'Luxury'}\n",
    "    \n",
    "    # replace values listed in car_classes_dict \n",
    "    df2[column] = df2[column].replace(car_classes_dict)\n",
    "    return df2\n",
    "\n",
    "def split_keep_middle (df: pd.DataFrame, column='number_of_open_complaints') -> pd.DataFrame:\n",
    "    '''\n",
    "    Function cleans by default the \"number_of_open_complaints\" column.\n",
    "    Splits values by \"/\" and only keep second string as new variable.\n",
    "    \n",
    "    Input: df: pd.DataFrame\n",
    "           column: string\n",
    "    Output: New DataFrame with replaced NaNs\n",
    "    '''\n",
    "    # make a safety copy\n",
    "    df2= df.copy()\n",
    "    \n",
    "    # splits values by \"/\" and only keep second string\n",
    "    df2[column] = df2[column].str.split(pat=\"/\").str[1]\n",
    "    return df2\n",
    "\n",
    "def drop_null_rows (df: pd.DataFrame) -> pd.DataFrame:\n",
    "    '''\n",
    "    Function deleted rows only containing nulls.\n",
    "    \n",
    "    Input: df: pd.DataFrame\n",
    "    \n",
    "    Output: New DataFrame with mean to replace nulls\n",
    "    '''\n",
    "    # make a safety copy\n",
    "    df2= df.copy()\n",
    "    \n",
    "    # delete null rows\n",
    "    df2 = df2.dropna(axis=0, how='all')\n",
    "    return df2\n",
    "\n",
    "\n",
    "def fill_with_mean (df: pd.DataFrame, column= 'customer_lifetime_value') -> pd.DataFrame:\n",
    "    '''\n",
    "    Function filles null values of a given column with mean of the column.\n",
    "    \n",
    "    Input: df: pd.DataFrame\n",
    "           column: string\n",
    "    Output: New DataFrame with mean to replace nulls\n",
    "    '''\n",
    "    # make a safety copy\n",
    "    df2 = df.copy()\n",
    "    \n",
    "    # convert column to numeric\n",
    "    df2[column] = df2[column].astype(float)\n",
    "    \n",
    "    # fill null values with the mean of the column\n",
    "    df2.loc[:, column] = df2[column].fillna(df2[column].mean(), axis=0)\n",
    "    return df2\n",
    "\n",
    "def num_to_int (df: pd.DataFrame) -> pd.DataFrame:\n",
    "    '''\n",
    "    Function to convert numeric values to integers.\n",
    "    \n",
    "    Input: df: pd.DataFrame\n",
    "           column: string\n",
    "    Output: New DataFrame with mean to replace nulls\n",
    "    '''\n",
    "    # make a safety copy\n",
    "    df2 = df.copy()\n",
    "    \n",
    "    # defining a list with all numeric variables\n",
    "    num_var = ['customer_lifetime_value','income', 'monthly_premium_auto', 'number_of_open_complaints', 'total_claim_amount']\n",
    "    # applying a lambda function that sets them all to be of type integer\n",
    "    df2[num_var] = df2[num_var].apply(lambda x: x.astype(int))\n",
    "    return df2\n",
    "\n",
    "def clean_dataframe (df: pd.DataFrame, column= str) -> pd.DataFrame:\n",
    "    '''\n",
    "    Function takes a pd.DataFrame and applies the previous functions to column.\n",
    "    \n",
    "    Input: df: pd.DataFrame\n",
    "           column: string\n",
    "    Outputs: New DataFram\n",
    "    '''\n",
    "\n",
    "    df2 = df.copy()\n",
    "    df2 = clean_col_name(df)\n",
    "    df2 = drop_null_rows(df2)\n",
    "    df2 = clean_gender(df2)\n",
    "    df2 = clean_state(df2)\n",
    "    df2 = clean_education(df2)\n",
    "    df2 = clean_clv(df2)\n",
    "    df2 = split_keep_middle(df2)\n",
    "    df2 = fill_with_mean(df2)\n",
    "    return df2"
   ]
  },
  {
   "cell_type": "code",
   "execution_count": 51,
   "id": "2a5a6650",
   "metadata": {},
   "outputs": [],
   "source": [
    "#df = clean_dataframe(df)"
   ]
  },
  {
   "cell_type": "code",
   "execution_count": 53,
   "id": "9abe67b6",
   "metadata": {},
   "outputs": [],
   "source": [
    "#df.dtypes"
   ]
  },
  {
   "cell_type": "code",
   "execution_count": 54,
   "id": "8fbc26e3",
   "metadata": {},
   "outputs": [],
   "source": [
    "#df.isnull().sum()"
   ]
  },
  {
   "cell_type": "markdown",
   "id": "80f846bb-3f5e-4ca2-96c0-900728daca5a",
   "metadata": {
    "id": "80f846bb-3f5e-4ca2-96c0-900728daca5a",
    "tags": []
   },
   "source": [
    "# Bonus: Challenge 3: Analyzing Clean and Formated Data"
   ]
  },
  {
   "cell_type": "markdown",
   "id": "9021630e-cc90-446c-b5bd-264d6c864207",
   "metadata": {
    "id": "9021630e-cc90-446c-b5bd-264d6c864207"
   },
   "source": [
    "You have been tasked with analyzing the data to identify potential areas for improving customer retention and profitability. Your goal is to identify customers with a high policy claim amount and a low customer lifetime value.\n",
    "\n",
    "In the Pandas Lab, we only looked at high policy claim amounts because we couldn't look into low customer lifetime values. If we had tried to work with that column, we wouldn't have been able to because customer lifetime value wasn't clean and in its proper format. So after cleaning and formatting the data, let's get some more interesting insights!\n",
    "\n",
    "Instructions:\n",
    "\n",
    "- Review the statistics again for total claim amount and customer lifetime value to gain an understanding of the data.\n",
    "- To identify potential areas for improving customer retention and profitability, we want to focus on customers with a high policy claim amount and a low customer lifetime value. Consider customers with a high policy claim amount to be those in the top 25% of the total claim amount, and clients with a low customer lifetime value to be those in the bottom 25% of the customer lifetime value. Create a pandas DataFrame object that contains information about customers with a policy claim amount greater than the 75th percentile and a customer lifetime value in the bottom 25th percentile.\n",
    "- Use DataFrame methods to calculate summary statistics about the high policy claim amount and low customer lifetime value data. To do so, select both columns of the dataframe simultaneously and pass it to the `.describe()` method. This will give you descriptive statistics, such as mean, median, standard deviation, minimum and maximum values for both columns at the same time, allowing you to compare and analyze their characteristics."
   ]
  },
  {
   "cell_type": "code",
   "execution_count": 55,
   "id": "211e82b5-461a-4d6f-8a23-4deccb84173c",
   "metadata": {
    "id": "211e82b5-461a-4d6f-8a23-4deccb84173c"
   },
   "outputs": [
    {
     "data": {
      "text/html": [
       "<div>\n",
       "<style scoped>\n",
       "    .dataframe tbody tr th:only-of-type {\n",
       "        vertical-align: middle;\n",
       "    }\n",
       "\n",
       "    .dataframe tbody tr th {\n",
       "        vertical-align: top;\n",
       "    }\n",
       "\n",
       "    .dataframe thead th {\n",
       "        text-align: right;\n",
       "    }\n",
       "</style>\n",
       "<table border=\"1\" class=\"dataframe\">\n",
       "  <thead>\n",
       "    <tr style=\"text-align: right;\">\n",
       "      <th></th>\n",
       "      <th>total_claim_amount</th>\n",
       "      <th>customer_lifetime_value</th>\n",
       "    </tr>\n",
       "  </thead>\n",
       "  <tbody>\n",
       "    <tr>\n",
       "      <th>0</th>\n",
       "      <td>2</td>\n",
       "      <td>793690</td>\n",
       "    </tr>\n",
       "    <tr>\n",
       "      <th>1</th>\n",
       "      <td>1131</td>\n",
       "      <td>697953</td>\n",
       "    </tr>\n",
       "    <tr>\n",
       "      <th>2</th>\n",
       "      <td>566</td>\n",
       "      <td>1288743</td>\n",
       "    </tr>\n",
       "  </tbody>\n",
       "</table>\n",
       "</div>"
      ],
      "text/plain": [
       "   total_claim_amount  customer_lifetime_value\n",
       "0                   2                   793690\n",
       "1                1131                   697953\n",
       "2                 566                  1288743"
      ]
     },
     "execution_count": 55,
     "metadata": {},
     "output_type": "execute_result"
    }
   ],
   "source": [
    "df[['total_claim_amount','customer_lifetime_value']].head(3)"
   ]
  },
  {
   "cell_type": "code",
   "execution_count": 56,
   "id": "0cae5c6b",
   "metadata": {},
   "outputs": [
    {
     "data": {
      "text/html": [
       "<div>\n",
       "<style scoped>\n",
       "    .dataframe tbody tr th:only-of-type {\n",
       "        vertical-align: middle;\n",
       "    }\n",
       "\n",
       "    .dataframe tbody tr th {\n",
       "        vertical-align: top;\n",
       "    }\n",
       "\n",
       "    .dataframe thead th {\n",
       "        text-align: right;\n",
       "    }\n",
       "</style>\n",
       "<table border=\"1\" class=\"dataframe\">\n",
       "  <thead>\n",
       "    <tr style=\"text-align: right;\">\n",
       "      <th></th>\n",
       "      <th>total_claim_amount</th>\n",
       "      <th>customer_lifetime_value</th>\n",
       "    </tr>\n",
       "  </thead>\n",
       "  <tbody>\n",
       "    <tr>\n",
       "      <th>count</th>\n",
       "      <td>1071.000000</td>\n",
       "      <td>1.071000e+03</td>\n",
       "    </tr>\n",
       "    <tr>\n",
       "      <th>mean</th>\n",
       "      <td>404.528478</td>\n",
       "      <td>7.936898e+05</td>\n",
       "    </tr>\n",
       "    <tr>\n",
       "      <th>std</th>\n",
       "      <td>293.041850</td>\n",
       "      <td>6.425757e+05</td>\n",
       "    </tr>\n",
       "    <tr>\n",
       "      <th>min</th>\n",
       "      <td>0.000000</td>\n",
       "      <td>2.004350e+05</td>\n",
       "    </tr>\n",
       "    <tr>\n",
       "      <th>25%</th>\n",
       "      <td>201.500000</td>\n",
       "      <td>4.048530e+05</td>\n",
       "    </tr>\n",
       "    <tr>\n",
       "      <th>50%</th>\n",
       "      <td>354.000000</td>\n",
       "      <td>5.887180e+05</td>\n",
       "    </tr>\n",
       "    <tr>\n",
       "      <th>75%</th>\n",
       "      <td>532.000000</td>\n",
       "      <td>8.945205e+05</td>\n",
       "    </tr>\n",
       "    <tr>\n",
       "      <th>max</th>\n",
       "      <td>2893.000000</td>\n",
       "      <td>5.816655e+06</td>\n",
       "    </tr>\n",
       "  </tbody>\n",
       "</table>\n",
       "</div>"
      ],
      "text/plain": [
       "       total_claim_amount  customer_lifetime_value\n",
       "count         1071.000000             1.071000e+03\n",
       "mean           404.528478             7.936898e+05\n",
       "std            293.041850             6.425757e+05\n",
       "min              0.000000             2.004350e+05\n",
       "25%            201.500000             4.048530e+05\n",
       "50%            354.000000             5.887180e+05\n",
       "75%            532.000000             8.945205e+05\n",
       "max           2893.000000             5.816655e+06"
      ]
     },
     "execution_count": 56,
     "metadata": {},
     "output_type": "execute_result"
    }
   ],
   "source": [
    "df[['total_claim_amount','customer_lifetime_value']].describe()"
   ]
  },
  {
   "cell_type": "code",
   "execution_count": 57,
   "id": "49d5fe6e",
   "metadata": {},
   "outputs": [
    {
     "name": "stdout",
     "output_type": "stream",
     "text": [
      "532.0\n",
      "404853.0\n"
     ]
    }
   ],
   "source": [
    "#customers with a high policy claim amount to be those in the top 25% of the total claim amount, \n",
    "#customers with a low customer lifetime value to be those in the bottom 25% of the customer lifetime value. \n",
    "\n",
    "high_claim_cust = df['total_claim_amount'].describe()[6]\n",
    "low_clv_cust = df['customer_lifetime_value'].describe()[4]\n",
    "print(high_claim_cust)\n",
    "print(low_clv_cust )"
   ]
  },
  {
   "cell_type": "code",
   "execution_count": 58,
   "id": "8ebd190e",
   "metadata": {},
   "outputs": [],
   "source": [
    "#Create a pandas DataFrame object that contains information about \n",
    "#customers with a policy claim amount greater than the 75th percentile \n",
    "#and a customer lifetime value in the bottom 25th percentile.\n",
    "\n",
    "customer_analysis_df = df[(df['total_claim_amount']>=high_claim_cust) & (df['customer_lifetime_value']<=low_clv_cust)]"
   ]
  },
  {
   "cell_type": "code",
   "execution_count": 59,
   "id": "69823d3a",
   "metadata": {},
   "outputs": [
    {
     "data": {
      "text/html": [
       "<div>\n",
       "<style scoped>\n",
       "    .dataframe tbody tr th:only-of-type {\n",
       "        vertical-align: middle;\n",
       "    }\n",
       "\n",
       "    .dataframe tbody tr th {\n",
       "        vertical-align: top;\n",
       "    }\n",
       "\n",
       "    .dataframe thead th {\n",
       "        text-align: right;\n",
       "    }\n",
       "</style>\n",
       "<table border=\"1\" class=\"dataframe\">\n",
       "  <thead>\n",
       "    <tr style=\"text-align: right;\">\n",
       "      <th></th>\n",
       "      <th>total_claim_amount</th>\n",
       "      <th>customer_lifetime_value</th>\n",
       "    </tr>\n",
       "  </thead>\n",
       "  <tbody>\n",
       "    <tr>\n",
       "      <th>count</th>\n",
       "      <td>41.000000</td>\n",
       "      <td>41.000000</td>\n",
       "    </tr>\n",
       "    <tr>\n",
       "      <th>mean</th>\n",
       "      <td>718.634146</td>\n",
       "      <td>340055.780488</td>\n",
       "    </tr>\n",
       "    <tr>\n",
       "      <th>std</th>\n",
       "      <td>150.337912</td>\n",
       "      <td>57043.697829</td>\n",
       "    </tr>\n",
       "    <tr>\n",
       "      <th>min</th>\n",
       "      <td>532.000000</td>\n",
       "      <td>228759.000000</td>\n",
       "    </tr>\n",
       "    <tr>\n",
       "      <th>25%</th>\n",
       "      <td>632.000000</td>\n",
       "      <td>289873.000000</td>\n",
       "    </tr>\n",
       "    <tr>\n",
       "      <th>50%</th>\n",
       "      <td>679.000000</td>\n",
       "      <td>365253.000000</td>\n",
       "    </tr>\n",
       "    <tr>\n",
       "      <th>75%</th>\n",
       "      <td>799.000000</td>\n",
       "      <td>387364.000000</td>\n",
       "    </tr>\n",
       "    <tr>\n",
       "      <th>max</th>\n",
       "      <td>1185.000000</td>\n",
       "      <td>402381.000000</td>\n",
       "    </tr>\n",
       "  </tbody>\n",
       "</table>\n",
       "</div>"
      ],
      "text/plain": [
       "       total_claim_amount  customer_lifetime_value\n",
       "count           41.000000                41.000000\n",
       "mean           718.634146            340055.780488\n",
       "std            150.337912             57043.697829\n",
       "min            532.000000            228759.000000\n",
       "25%            632.000000            289873.000000\n",
       "50%            679.000000            365253.000000\n",
       "75%            799.000000            387364.000000\n",
       "max           1185.000000            402381.000000"
      ]
     },
     "execution_count": 59,
     "metadata": {},
     "output_type": "execute_result"
    }
   ],
   "source": [
    "# Use DataFrame methods to calculate summary statistics about the high policy claim amount \n",
    "# and low customer lifetime value data. \n",
    "# select both columns of the dataframe simultaneously and pass it to the .describe() method\n",
    "customer_analysis_df[['total_claim_amount','customer_lifetime_value']].describe()"
   ]
  },
  {
   "cell_type": "code",
   "execution_count": 60,
   "id": "ce211637",
   "metadata": {},
   "outputs": [
    {
     "data": {
      "text/html": [
       "<div>\n",
       "<style scoped>\n",
       "    .dataframe tbody tr th:only-of-type {\n",
       "        vertical-align: middle;\n",
       "    }\n",
       "\n",
       "    .dataframe tbody tr th {\n",
       "        vertical-align: top;\n",
       "    }\n",
       "\n",
       "    .dataframe thead th {\n",
       "        text-align: right;\n",
       "    }\n",
       "</style>\n",
       "<table border=\"1\" class=\"dataframe\">\n",
       "  <thead>\n",
       "    <tr style=\"text-align: right;\">\n",
       "      <th></th>\n",
       "      <th>customer</th>\n",
       "      <th>state</th>\n",
       "      <th>gender</th>\n",
       "      <th>education</th>\n",
       "      <th>customer_lifetime_value</th>\n",
       "      <th>income</th>\n",
       "      <th>monthly_premium_auto</th>\n",
       "      <th>number_of_open_complaints</th>\n",
       "      <th>policy_type</th>\n",
       "      <th>vehicle_class</th>\n",
       "      <th>total_claim_amount</th>\n",
       "    </tr>\n",
       "  </thead>\n",
       "  <tbody>\n",
       "    <tr>\n",
       "      <th>17</th>\n",
       "      <td>OE15005</td>\n",
       "      <td>California</td>\n",
       "      <td>D</td>\n",
       "      <td>College</td>\n",
       "      <td>394524</td>\n",
       "      <td>28855</td>\n",
       "      <td>101</td>\n",
       "      <td>0</td>\n",
       "      <td>Personal Auto</td>\n",
       "      <td>SUV</td>\n",
       "      <td>647</td>\n",
       "    </tr>\n",
       "    <tr>\n",
       "      <th>23</th>\n",
       "      <td>TZ98966</td>\n",
       "      <td>Nevada</td>\n",
       "      <td>D</td>\n",
       "      <td>Bachelor</td>\n",
       "      <td>245019</td>\n",
       "      <td>0</td>\n",
       "      <td>73</td>\n",
       "      <td>3</td>\n",
       "      <td>Corporate Auto</td>\n",
       "      <td>Four-Door Car</td>\n",
       "      <td>554</td>\n",
       "    </tr>\n",
       "    <tr>\n",
       "      <th>26</th>\n",
       "      <td>US89481</td>\n",
       "      <td>California</td>\n",
       "      <td>D</td>\n",
       "      <td>Bachelor</td>\n",
       "      <td>394637</td>\n",
       "      <td>0</td>\n",
       "      <td>111</td>\n",
       "      <td>0</td>\n",
       "      <td>Personal Auto</td>\n",
       "      <td>Four-Door Car</td>\n",
       "      <td>799</td>\n",
       "    </tr>\n",
       "    <tr>\n",
       "      <th>38</th>\n",
       "      <td>CM61827</td>\n",
       "      <td>Oregon</td>\n",
       "      <td>D</td>\n",
       "      <td>Bachelor</td>\n",
       "      <td>309003</td>\n",
       "      <td>0</td>\n",
       "      <td>90</td>\n",
       "      <td>0</td>\n",
       "      <td>Personal Auto</td>\n",
       "      <td>Two-Door Car</td>\n",
       "      <td>648</td>\n",
       "    </tr>\n",
       "    <tr>\n",
       "      <th>42</th>\n",
       "      <td>IL19217</td>\n",
       "      <td>California</td>\n",
       "      <td>D</td>\n",
       "      <td>Bachelor</td>\n",
       "      <td>393900</td>\n",
       "      <td>60021</td>\n",
       "      <td>99</td>\n",
       "      <td>0</td>\n",
       "      <td>Personal Auto</td>\n",
       "      <td>Four-Door Car</td>\n",
       "      <td>882</td>\n",
       "    </tr>\n",
       "    <tr>\n",
       "      <th>62</th>\n",
       "      <td>FG63582</td>\n",
       "      <td>Oregon</td>\n",
       "      <td>D</td>\n",
       "      <td>Bachelor</td>\n",
       "      <td>333976</td>\n",
       "      <td>0</td>\n",
       "      <td>94</td>\n",
       "      <td>0</td>\n",
       "      <td>Personal Auto</td>\n",
       "      <td>Two-Door Car</td>\n",
       "      <td>863</td>\n",
       "    </tr>\n",
       "    <tr>\n",
       "      <th>135</th>\n",
       "      <td>MS41162</td>\n",
       "      <td>Arizona</td>\n",
       "      <td>D</td>\n",
       "      <td>High School or Below</td>\n",
       "      <td>402296</td>\n",
       "      <td>0</td>\n",
       "      <td>117</td>\n",
       "      <td>0</td>\n",
       "      <td>Personal Auto</td>\n",
       "      <td>SUV</td>\n",
       "      <td>975</td>\n",
       "    </tr>\n",
       "    <tr>\n",
       "      <th>140</th>\n",
       "      <td>DS81757</td>\n",
       "      <td>Oregon</td>\n",
       "      <td>M</td>\n",
       "      <td>College</td>\n",
       "      <td>247012</td>\n",
       "      <td>0</td>\n",
       "      <td>74</td>\n",
       "      <td>0</td>\n",
       "      <td>Personal Auto</td>\n",
       "      <td>Two-Door Car</td>\n",
       "      <td>721</td>\n",
       "    </tr>\n",
       "    <tr>\n",
       "      <th>158</th>\n",
       "      <td>KA61892</td>\n",
       "      <td>Arizona</td>\n",
       "      <td>M</td>\n",
       "      <td>College</td>\n",
       "      <td>387364</td>\n",
       "      <td>28142</td>\n",
       "      <td>105</td>\n",
       "      <td>0</td>\n",
       "      <td>Personal Auto</td>\n",
       "      <td>Luxury</td>\n",
       "      <td>701</td>\n",
       "    </tr>\n",
       "    <tr>\n",
       "      <th>160</th>\n",
       "      <td>ND87334</td>\n",
       "      <td>California</td>\n",
       "      <td>M</td>\n",
       "      <td>High School or Below</td>\n",
       "      <td>228759</td>\n",
       "      <td>0</td>\n",
       "      <td>63</td>\n",
       "      <td>0</td>\n",
       "      <td>Corporate Auto</td>\n",
       "      <td>Two-Door Car</td>\n",
       "      <td>679</td>\n",
       "    </tr>\n",
       "    <tr>\n",
       "      <th>170</th>\n",
       "      <td>TS19868</td>\n",
       "      <td>California</td>\n",
       "      <td>M</td>\n",
       "      <td>College</td>\n",
       "      <td>241313</td>\n",
       "      <td>27501</td>\n",
       "      <td>63</td>\n",
       "      <td>0</td>\n",
       "      <td>Personal Auto</td>\n",
       "      <td>Four-Door Car</td>\n",
       "      <td>542</td>\n",
       "    </tr>\n",
       "    <tr>\n",
       "      <th>184</th>\n",
       "      <td>AB13432</td>\n",
       "      <td>California</td>\n",
       "      <td>M</td>\n",
       "      <td>Bachelor</td>\n",
       "      <td>373583</td>\n",
       "      <td>0</td>\n",
       "      <td>110</td>\n",
       "      <td>0</td>\n",
       "      <td>Personal Auto</td>\n",
       "      <td>SUV</td>\n",
       "      <td>792</td>\n",
       "    </tr>\n",
       "    <tr>\n",
       "      <th>204</th>\n",
       "      <td>FL34139</td>\n",
       "      <td>California</td>\n",
       "      <td>M</td>\n",
       "      <td>High School or Below</td>\n",
       "      <td>368811</td>\n",
       "      <td>0</td>\n",
       "      <td>63</td>\n",
       "      <td>3</td>\n",
       "      <td>Personal Auto</td>\n",
       "      <td>Four-Door Car</td>\n",
       "      <td>669</td>\n",
       "    </tr>\n",
       "    <tr>\n",
       "      <th>250</th>\n",
       "      <td>IA63417</td>\n",
       "      <td>Arizona</td>\n",
       "      <td>F</td>\n",
       "      <td>High School or Below</td>\n",
       "      <td>400151</td>\n",
       "      <td>19782</td>\n",
       "      <td>108</td>\n",
       "      <td>0</td>\n",
       "      <td>Personal Auto</td>\n",
       "      <td>Two-Door Car</td>\n",
       "      <td>773</td>\n",
       "    </tr>\n",
       "    <tr>\n",
       "      <th>269</th>\n",
       "      <td>VZ51506</td>\n",
       "      <td>Arizona</td>\n",
       "      <td>F</td>\n",
       "      <td>High School or Below</td>\n",
       "      <td>359531</td>\n",
       "      <td>0</td>\n",
       "      <td>103</td>\n",
       "      <td>0</td>\n",
       "      <td>Corporate Auto</td>\n",
       "      <td>Luxury</td>\n",
       "      <td>741</td>\n",
       "    </tr>\n",
       "    <tr>\n",
       "      <th>279</th>\n",
       "      <td>OH60605</td>\n",
       "      <td>Oregon</td>\n",
       "      <td>F</td>\n",
       "      <td>High School or Below</td>\n",
       "      <td>365253</td>\n",
       "      <td>39679</td>\n",
       "      <td>92</td>\n",
       "      <td>0</td>\n",
       "      <td>Personal Auto</td>\n",
       "      <td>Two-Door Car</td>\n",
       "      <td>641</td>\n",
       "    </tr>\n",
       "    <tr>\n",
       "      <th>304</th>\n",
       "      <td>RR77985</td>\n",
       "      <td>Oregon</td>\n",
       "      <td>F</td>\n",
       "      <td>Bachelor</td>\n",
       "      <td>288774</td>\n",
       "      <td>0</td>\n",
       "      <td>80</td>\n",
       "      <td>0</td>\n",
       "      <td>Personal Auto</td>\n",
       "      <td>Four-Door Car</td>\n",
       "      <td>676</td>\n",
       "    </tr>\n",
       "    <tr>\n",
       "      <th>388</th>\n",
       "      <td>JF36291</td>\n",
       "      <td>California</td>\n",
       "      <td>M</td>\n",
       "      <td>College</td>\n",
       "      <td>387364</td>\n",
       "      <td>28142</td>\n",
       "      <td>105</td>\n",
       "      <td>0</td>\n",
       "      <td>Personal Auto</td>\n",
       "      <td>Luxury</td>\n",
       "      <td>701</td>\n",
       "    </tr>\n",
       "    <tr>\n",
       "      <th>415</th>\n",
       "      <td>ZF84449</td>\n",
       "      <td>Oregon</td>\n",
       "      <td>F</td>\n",
       "      <td>College</td>\n",
       "      <td>372672</td>\n",
       "      <td>0</td>\n",
       "      <td>112</td>\n",
       "      <td>1</td>\n",
       "      <td>Special Auto</td>\n",
       "      <td>Luxury</td>\n",
       "      <td>806</td>\n",
       "    </tr>\n",
       "    <tr>\n",
       "      <th>448</th>\n",
       "      <td>NL93182</td>\n",
       "      <td>Nevada</td>\n",
       "      <td>M</td>\n",
       "      <td>Bachelor</td>\n",
       "      <td>254945</td>\n",
       "      <td>0</td>\n",
       "      <td>78</td>\n",
       "      <td>0</td>\n",
       "      <td>Corporate Auto</td>\n",
       "      <td>Four-Door Car</td>\n",
       "      <td>845</td>\n",
       "    </tr>\n",
       "    <tr>\n",
       "      <th>450</th>\n",
       "      <td>WE68644</td>\n",
       "      <td>Oregon</td>\n",
       "      <td>F</td>\n",
       "      <td>Bachelor</td>\n",
       "      <td>380392</td>\n",
       "      <td>20325</td>\n",
       "      <td>100</td>\n",
       "      <td>0</td>\n",
       "      <td>Personal Auto</td>\n",
       "      <td>Luxury</td>\n",
       "      <td>668</td>\n",
       "    </tr>\n",
       "    <tr>\n",
       "      <th>467</th>\n",
       "      <td>AU96286</td>\n",
       "      <td>Oregon</td>\n",
       "      <td>F</td>\n",
       "      <td>Bachelor</td>\n",
       "      <td>316765</td>\n",
       "      <td>0</td>\n",
       "      <td>92</td>\n",
       "      <td>0</td>\n",
       "      <td>Corporate Auto</td>\n",
       "      <td>Four-Door Car</td>\n",
       "      <td>662</td>\n",
       "    </tr>\n",
       "    <tr>\n",
       "      <th>486</th>\n",
       "      <td>FY51713</td>\n",
       "      <td>Arizona</td>\n",
       "      <td>F</td>\n",
       "      <td>Bachelor</td>\n",
       "      <td>357076</td>\n",
       "      <td>56168</td>\n",
       "      <td>88</td>\n",
       "      <td>0</td>\n",
       "      <td>Personal Auto</td>\n",
       "      <td>Four-Door Car</td>\n",
       "      <td>614</td>\n",
       "    </tr>\n",
       "    <tr>\n",
       "      <th>500</th>\n",
       "      <td>XN11823</td>\n",
       "      <td>Nevada</td>\n",
       "      <td>F</td>\n",
       "      <td>Bachelor</td>\n",
       "      <td>376446</td>\n",
       "      <td>92600</td>\n",
       "      <td>94</td>\n",
       "      <td>0</td>\n",
       "      <td>Corporate Auto</td>\n",
       "      <td>Two-Door Car</td>\n",
       "      <td>842</td>\n",
       "    </tr>\n",
       "    <tr>\n",
       "      <th>502</th>\n",
       "      <td>PX17116</td>\n",
       "      <td>Nevada</td>\n",
       "      <td>M</td>\n",
       "      <td>College</td>\n",
       "      <td>362345</td>\n",
       "      <td>0</td>\n",
       "      <td>111</td>\n",
       "      <td>2</td>\n",
       "      <td>Corporate Auto</td>\n",
       "      <td>SUV</td>\n",
       "      <td>1171</td>\n",
       "    </tr>\n",
       "    <tr>\n",
       "      <th>545</th>\n",
       "      <td>AW73065</td>\n",
       "      <td>Oregon</td>\n",
       "      <td>F</td>\n",
       "      <td>High School or Below</td>\n",
       "      <td>279190</td>\n",
       "      <td>0</td>\n",
       "      <td>74</td>\n",
       "      <td>0</td>\n",
       "      <td>Personal Auto</td>\n",
       "      <td>Four-Door Car</td>\n",
       "      <td>532</td>\n",
       "    </tr>\n",
       "    <tr>\n",
       "      <th>565</th>\n",
       "      <td>XS12556</td>\n",
       "      <td>California</td>\n",
       "      <td>F</td>\n",
       "      <td>College</td>\n",
       "      <td>368309</td>\n",
       "      <td>0</td>\n",
       "      <td>101</td>\n",
       "      <td>0</td>\n",
       "      <td>Corporate Auto</td>\n",
       "      <td>Luxury</td>\n",
       "      <td>564</td>\n",
       "    </tr>\n",
       "    <tr>\n",
       "      <th>590</th>\n",
       "      <td>UK41984</td>\n",
       "      <td>Arizona</td>\n",
       "      <td>F</td>\n",
       "      <td>Doctor</td>\n",
       "      <td>383960</td>\n",
       "      <td>0</td>\n",
       "      <td>112</td>\n",
       "      <td>2</td>\n",
       "      <td>Personal Auto</td>\n",
       "      <td>SUV</td>\n",
       "      <td>537</td>\n",
       "    </tr>\n",
       "    <tr>\n",
       "      <th>593</th>\n",
       "      <td>ZK21724</td>\n",
       "      <td>Oregon</td>\n",
       "      <td>F</td>\n",
       "      <td>High School or Below</td>\n",
       "      <td>401654</td>\n",
       "      <td>0</td>\n",
       "      <td>111</td>\n",
       "      <td>0</td>\n",
       "      <td>Personal Auto</td>\n",
       "      <td>SUV</td>\n",
       "      <td>799</td>\n",
       "    </tr>\n",
       "    <tr>\n",
       "      <th>638</th>\n",
       "      <td>DM95829</td>\n",
       "      <td>California</td>\n",
       "      <td>M</td>\n",
       "      <td>College</td>\n",
       "      <td>252395</td>\n",
       "      <td>16244</td>\n",
       "      <td>68</td>\n",
       "      <td>0</td>\n",
       "      <td>Personal Auto</td>\n",
       "      <td>Two-Door Car</td>\n",
       "      <td>623</td>\n",
       "    </tr>\n",
       "    <tr>\n",
       "      <th>645</th>\n",
       "      <td>JA41698</td>\n",
       "      <td>Nevada</td>\n",
       "      <td>M</td>\n",
       "      <td>Bachelor</td>\n",
       "      <td>309953</td>\n",
       "      <td>0</td>\n",
       "      <td>102</td>\n",
       "      <td>5</td>\n",
       "      <td>Corporate Auto</td>\n",
       "      <td>SUV</td>\n",
       "      <td>862</td>\n",
       "    </tr>\n",
       "    <tr>\n",
       "      <th>669</th>\n",
       "      <td>ED50963</td>\n",
       "      <td>California</td>\n",
       "      <td>F</td>\n",
       "      <td>High School or Below</td>\n",
       "      <td>268886</td>\n",
       "      <td>32808</td>\n",
       "      <td>68</td>\n",
       "      <td>1</td>\n",
       "      <td>Personal Auto</td>\n",
       "      <td>Four-Door Car</td>\n",
       "      <td>541</td>\n",
       "    </tr>\n",
       "    <tr>\n",
       "      <th>709</th>\n",
       "      <td>NZ15548</td>\n",
       "      <td>Oregon</td>\n",
       "      <td>M</td>\n",
       "      <td>Bachelor</td>\n",
       "      <td>402381</td>\n",
       "      <td>41833</td>\n",
       "      <td>103</td>\n",
       "      <td>0</td>\n",
       "      <td>Personal Auto</td>\n",
       "      <td>Four-Door Car</td>\n",
       "      <td>643</td>\n",
       "    </tr>\n",
       "    <tr>\n",
       "      <th>788</th>\n",
       "      <td>TE13577</td>\n",
       "      <td>Oregon</td>\n",
       "      <td>F</td>\n",
       "      <td>College</td>\n",
       "      <td>231973</td>\n",
       "      <td>0</td>\n",
       "      <td>64</td>\n",
       "      <td>0</td>\n",
       "      <td>Personal Auto</td>\n",
       "      <td>Four-Door Car</td>\n",
       "      <td>632</td>\n",
       "    </tr>\n",
       "    <tr>\n",
       "      <th>853</th>\n",
       "      <td>TV25678</td>\n",
       "      <td>Washington</td>\n",
       "      <td>M</td>\n",
       "      <td>College</td>\n",
       "      <td>354090</td>\n",
       "      <td>0</td>\n",
       "      <td>101</td>\n",
       "      <td>0</td>\n",
       "      <td>Personal Auto</td>\n",
       "      <td>SUV</td>\n",
       "      <td>727</td>\n",
       "    </tr>\n",
       "    <tr>\n",
       "      <th>891</th>\n",
       "      <td>KJ87930</td>\n",
       "      <td>California</td>\n",
       "      <td>F</td>\n",
       "      <td>Bachelor</td>\n",
       "      <td>388650</td>\n",
       "      <td>0</td>\n",
       "      <td>112</td>\n",
       "      <td>0</td>\n",
       "      <td>Corporate Auto</td>\n",
       "      <td>SUV</td>\n",
       "      <td>1185</td>\n",
       "    </tr>\n",
       "    <tr>\n",
       "      <th>908</th>\n",
       "      <td>XM72420</td>\n",
       "      <td>Arizona</td>\n",
       "      <td>F</td>\n",
       "      <td>High School or Below</td>\n",
       "      <td>391936</td>\n",
       "      <td>66676</td>\n",
       "      <td>97</td>\n",
       "      <td>0</td>\n",
       "      <td>Personal Auto</td>\n",
       "      <td>Four-Door Car</td>\n",
       "      <td>558</td>\n",
       "    </tr>\n",
       "    <tr>\n",
       "      <th>949</th>\n",
       "      <td>TD10493</td>\n",
       "      <td>Oregon</td>\n",
       "      <td>F</td>\n",
       "      <td>High School or Below</td>\n",
       "      <td>289873</td>\n",
       "      <td>0</td>\n",
       "      <td>96</td>\n",
       "      <td>4</td>\n",
       "      <td>Personal Auto</td>\n",
       "      <td>Four-Door Car</td>\n",
       "      <td>691</td>\n",
       "    </tr>\n",
       "    <tr>\n",
       "      <th>1019</th>\n",
       "      <td>OT52034</td>\n",
       "      <td>California</td>\n",
       "      <td>M</td>\n",
       "      <td>Bachelor</td>\n",
       "      <td>386477</td>\n",
       "      <td>24204</td>\n",
       "      <td>99</td>\n",
       "      <td>1</td>\n",
       "      <td>Personal Auto</td>\n",
       "      <td>Four-Door Car</td>\n",
       "      <td>707</td>\n",
       "    </tr>\n",
       "    <tr>\n",
       "      <th>1022</th>\n",
       "      <td>UI73201</td>\n",
       "      <td>California</td>\n",
       "      <td>M</td>\n",
       "      <td>College</td>\n",
       "      <td>366737</td>\n",
       "      <td>62375</td>\n",
       "      <td>92</td>\n",
       "      <td>0</td>\n",
       "      <td>Personal Auto</td>\n",
       "      <td>Two-Door Car</td>\n",
       "      <td>618</td>\n",
       "    </tr>\n",
       "    <tr>\n",
       "      <th>1068</th>\n",
       "      <td>GS98873</td>\n",
       "      <td>Arizona</td>\n",
       "      <td>F</td>\n",
       "      <td>Bachelor</td>\n",
       "      <td>323912</td>\n",
       "      <td>16061</td>\n",
       "      <td>88</td>\n",
       "      <td>0</td>\n",
       "      <td>Personal Auto</td>\n",
       "      <td>Four-Door Car</td>\n",
       "      <td>633</td>\n",
       "    </tr>\n",
       "  </tbody>\n",
       "</table>\n",
       "</div>"
      ],
      "text/plain": [
       "     customer       state gender             education  \\\n",
       "17    OE15005  California      D               College   \n",
       "23    TZ98966      Nevada      D              Bachelor   \n",
       "26    US89481  California      D              Bachelor   \n",
       "38    CM61827      Oregon      D              Bachelor   \n",
       "42    IL19217  California      D              Bachelor   \n",
       "62    FG63582      Oregon      D              Bachelor   \n",
       "135   MS41162     Arizona      D  High School or Below   \n",
       "140   DS81757      Oregon      M               College   \n",
       "158   KA61892     Arizona      M               College   \n",
       "160   ND87334  California      M  High School or Below   \n",
       "170   TS19868  California      M               College   \n",
       "184   AB13432  California      M              Bachelor   \n",
       "204   FL34139  California      M  High School or Below   \n",
       "250   IA63417     Arizona      F  High School or Below   \n",
       "269   VZ51506     Arizona      F  High School or Below   \n",
       "279   OH60605      Oregon      F  High School or Below   \n",
       "304   RR77985      Oregon      F              Bachelor   \n",
       "388   JF36291  California      M               College   \n",
       "415   ZF84449      Oregon      F               College   \n",
       "448   NL93182      Nevada      M              Bachelor   \n",
       "450   WE68644      Oregon      F              Bachelor   \n",
       "467   AU96286      Oregon      F              Bachelor   \n",
       "486   FY51713     Arizona      F              Bachelor   \n",
       "500   XN11823      Nevada      F              Bachelor   \n",
       "502   PX17116      Nevada      M               College   \n",
       "545   AW73065      Oregon      F  High School or Below   \n",
       "565   XS12556  California      F               College   \n",
       "590   UK41984     Arizona      F                Doctor   \n",
       "593   ZK21724      Oregon      F  High School or Below   \n",
       "638   DM95829  California      M               College   \n",
       "645   JA41698      Nevada      M              Bachelor   \n",
       "669   ED50963  California      F  High School or Below   \n",
       "709   NZ15548      Oregon      M              Bachelor   \n",
       "788   TE13577      Oregon      F               College   \n",
       "853   TV25678  Washington      M               College   \n",
       "891   KJ87930  California      F              Bachelor   \n",
       "908   XM72420     Arizona      F  High School or Below   \n",
       "949   TD10493      Oregon      F  High School or Below   \n",
       "1019  OT52034  California      M              Bachelor   \n",
       "1022  UI73201  California      M               College   \n",
       "1068  GS98873     Arizona      F              Bachelor   \n",
       "\n",
       "      customer_lifetime_value  income  monthly_premium_auto  \\\n",
       "17                     394524   28855                   101   \n",
       "23                     245019       0                    73   \n",
       "26                     394637       0                   111   \n",
       "38                     309003       0                    90   \n",
       "42                     393900   60021                    99   \n",
       "62                     333976       0                    94   \n",
       "135                    402296       0                   117   \n",
       "140                    247012       0                    74   \n",
       "158                    387364   28142                   105   \n",
       "160                    228759       0                    63   \n",
       "170                    241313   27501                    63   \n",
       "184                    373583       0                   110   \n",
       "204                    368811       0                    63   \n",
       "250                    400151   19782                   108   \n",
       "269                    359531       0                   103   \n",
       "279                    365253   39679                    92   \n",
       "304                    288774       0                    80   \n",
       "388                    387364   28142                   105   \n",
       "415                    372672       0                   112   \n",
       "448                    254945       0                    78   \n",
       "450                    380392   20325                   100   \n",
       "467                    316765       0                    92   \n",
       "486                    357076   56168                    88   \n",
       "500                    376446   92600                    94   \n",
       "502                    362345       0                   111   \n",
       "545                    279190       0                    74   \n",
       "565                    368309       0                   101   \n",
       "590                    383960       0                   112   \n",
       "593                    401654       0                   111   \n",
       "638                    252395   16244                    68   \n",
       "645                    309953       0                   102   \n",
       "669                    268886   32808                    68   \n",
       "709                    402381   41833                   103   \n",
       "788                    231973       0                    64   \n",
       "853                    354090       0                   101   \n",
       "891                    388650       0                   112   \n",
       "908                    391936   66676                    97   \n",
       "949                    289873       0                    96   \n",
       "1019                   386477   24204                    99   \n",
       "1022                   366737   62375                    92   \n",
       "1068                   323912   16061                    88   \n",
       "\n",
       "      number_of_open_complaints     policy_type  vehicle_class  \\\n",
       "17                            0   Personal Auto            SUV   \n",
       "23                            3  Corporate Auto  Four-Door Car   \n",
       "26                            0   Personal Auto  Four-Door Car   \n",
       "38                            0   Personal Auto   Two-Door Car   \n",
       "42                            0   Personal Auto  Four-Door Car   \n",
       "62                            0   Personal Auto   Two-Door Car   \n",
       "135                           0   Personal Auto            SUV   \n",
       "140                           0   Personal Auto   Two-Door Car   \n",
       "158                           0   Personal Auto         Luxury   \n",
       "160                           0  Corporate Auto   Two-Door Car   \n",
       "170                           0   Personal Auto  Four-Door Car   \n",
       "184                           0   Personal Auto            SUV   \n",
       "204                           3   Personal Auto  Four-Door Car   \n",
       "250                           0   Personal Auto   Two-Door Car   \n",
       "269                           0  Corporate Auto         Luxury   \n",
       "279                           0   Personal Auto   Two-Door Car   \n",
       "304                           0   Personal Auto  Four-Door Car   \n",
       "388                           0   Personal Auto         Luxury   \n",
       "415                           1    Special Auto         Luxury   \n",
       "448                           0  Corporate Auto  Four-Door Car   \n",
       "450                           0   Personal Auto         Luxury   \n",
       "467                           0  Corporate Auto  Four-Door Car   \n",
       "486                           0   Personal Auto  Four-Door Car   \n",
       "500                           0  Corporate Auto   Two-Door Car   \n",
       "502                           2  Corporate Auto            SUV   \n",
       "545                           0   Personal Auto  Four-Door Car   \n",
       "565                           0  Corporate Auto         Luxury   \n",
       "590                           2   Personal Auto            SUV   \n",
       "593                           0   Personal Auto            SUV   \n",
       "638                           0   Personal Auto   Two-Door Car   \n",
       "645                           5  Corporate Auto            SUV   \n",
       "669                           1   Personal Auto  Four-Door Car   \n",
       "709                           0   Personal Auto  Four-Door Car   \n",
       "788                           0   Personal Auto  Four-Door Car   \n",
       "853                           0   Personal Auto            SUV   \n",
       "891                           0  Corporate Auto            SUV   \n",
       "908                           0   Personal Auto  Four-Door Car   \n",
       "949                           4   Personal Auto  Four-Door Car   \n",
       "1019                          1   Personal Auto  Four-Door Car   \n",
       "1022                          0   Personal Auto   Two-Door Car   \n",
       "1068                          0   Personal Auto  Four-Door Car   \n",
       "\n",
       "      total_claim_amount  \n",
       "17                   647  \n",
       "23                   554  \n",
       "26                   799  \n",
       "38                   648  \n",
       "42                   882  \n",
       "62                   863  \n",
       "135                  975  \n",
       "140                  721  \n",
       "158                  701  \n",
       "160                  679  \n",
       "170                  542  \n",
       "184                  792  \n",
       "204                  669  \n",
       "250                  773  \n",
       "269                  741  \n",
       "279                  641  \n",
       "304                  676  \n",
       "388                  701  \n",
       "415                  806  \n",
       "448                  845  \n",
       "450                  668  \n",
       "467                  662  \n",
       "486                  614  \n",
       "500                  842  \n",
       "502                 1171  \n",
       "545                  532  \n",
       "565                  564  \n",
       "590                  537  \n",
       "593                  799  \n",
       "638                  623  \n",
       "645                  862  \n",
       "669                  541  \n",
       "709                  643  \n",
       "788                  632  \n",
       "853                  727  \n",
       "891                 1185  \n",
       "908                  558  \n",
       "949                  691  \n",
       "1019                 707  \n",
       "1022                 618  \n",
       "1068                 633  "
      ]
     },
     "execution_count": 60,
     "metadata": {},
     "output_type": "execute_result"
    }
   ],
   "source": [
    "customer_analysis_df"
   ]
  },
  {
   "cell_type": "markdown",
   "id": "b67d84ba",
   "metadata": {},
   "source": [
    "#### These are the customers that have a claim amount higher than 75%  of the other customers. They cost (the company) more than the average customer due to their claim amount.\n",
    "#### Additionally, the also have very low customer lifetime value in comparison to other customers.\n",
    "#### The customer retention strategy should be adapted to keep these customer category longer as a client."
   ]
  }
 ],
 "metadata": {
  "colab": {
   "provenance": []
  },
  "kernelspec": {
   "display_name": "Python 3 (ipykernel)",
   "language": "python",
   "name": "python3"
  },
  "language_info": {
   "codemirror_mode": {
    "name": "ipython",
    "version": 3
   },
   "file_extension": ".py",
   "mimetype": "text/x-python",
   "name": "python",
   "nbconvert_exporter": "python",
   "pygments_lexer": "ipython3",
   "version": "3.11.5"
  }
 },
 "nbformat": 4,
 "nbformat_minor": 5
}
